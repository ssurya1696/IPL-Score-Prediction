{
  "nbformat": 4,
  "nbformat_minor": 0,
  "metadata": {
    "colab": {
      "name": "IPL 2020.ipynb",
      "provenance": []
    },
    "kernelspec": {
      "name": "python3",
      "display_name": "Python 3"
    },
    "accelerator": "GPU"
  },
  "cells": [
    {
      "cell_type": "code",
      "metadata": {
        "id": "vSgRVHlJGLS2",
        "outputId": "643d7616-d6d7-4c1a-cabd-9cb6aab97edd",
        "colab": {
          "base_uri": "https://localhost:8080/",
          "height": 34
        }
      },
      "source": [
        "from google.colab import drive\n",
        "drive.mount('/content/drive')\n",
        "\n",
        "import os \n",
        "os.getcwd()\n",
        "os.chdir('/content/drive/My Drive/Data/')"
      ],
      "execution_count": 1,
      "outputs": [
        {
          "output_type": "stream",
          "text": [
            "Mounted at /content/drive\n"
          ],
          "name": "stdout"
        }
      ]
    },
    {
      "cell_type": "code",
      "metadata": {
        "id": "chEbBd4BHUp3"
      },
      "source": [
        "import pandas as pd\n",
        "import numpy as np"
      ],
      "execution_count": 2,
      "outputs": []
    },
    {
      "cell_type": "code",
      "metadata": {
        "id": "xsnavJjhfNcS",
        "outputId": "be023e5d-aacc-4c16-9367-a64a95d552b0",
        "colab": {
          "base_uri": "https://localhost:8080/",
          "height": 603
        }
      },
      "source": [
        "!pip install git+https://github.com/keras-team/keras-tuner.git@1.0.2rc3"
      ],
      "execution_count": 3,
      "outputs": [
        {
          "output_type": "stream",
          "text": [
            "Collecting git+https://github.com/keras-team/keras-tuner.git@1.0.2rc3\n",
            "  Cloning https://github.com/keras-team/keras-tuner.git (to revision 1.0.2rc3) to /tmp/pip-req-build-13pl0b35\n",
            "  Running command git clone -q https://github.com/keras-team/keras-tuner.git /tmp/pip-req-build-13pl0b35\n",
            "  Running command git checkout -q 172be42f1310cdbad48941494f84d65367de4f11\n",
            "Requirement already satisfied: packaging in /usr/local/lib/python3.6/dist-packages (from keras-tuner==1.0.2rc3) (20.4)\n",
            "Requirement already satisfied: future in /usr/local/lib/python3.6/dist-packages (from keras-tuner==1.0.2rc3) (0.16.0)\n",
            "Requirement already satisfied: numpy<1.19.0 in /usr/local/lib/python3.6/dist-packages (from keras-tuner==1.0.2rc3) (1.18.5)\n",
            "Requirement already satisfied: tabulate in /usr/local/lib/python3.6/dist-packages (from keras-tuner==1.0.2rc3) (0.8.7)\n",
            "Collecting terminaltables\n",
            "  Downloading https://files.pythonhosted.org/packages/9b/c4/4a21174f32f8a7e1104798c445dacdc1d4df86f2f26722767034e4de4bff/terminaltables-3.1.0.tar.gz\n",
            "Collecting colorama\n",
            "  Downloading https://files.pythonhosted.org/packages/44/98/5b86278fbbf250d239ae0ecb724f8572af1c91f4a11edf4d36a206189440/colorama-0.4.4-py2.py3-none-any.whl\n",
            "Requirement already satisfied: tqdm in /usr/local/lib/python3.6/dist-packages (from keras-tuner==1.0.2rc3) (4.41.1)\n",
            "Requirement already satisfied: requests in /usr/local/lib/python3.6/dist-packages (from keras-tuner==1.0.2rc3) (2.23.0)\n",
            "Requirement already satisfied: scipy in /usr/local/lib/python3.6/dist-packages (from keras-tuner==1.0.2rc3) (1.4.1)\n",
            "Requirement already satisfied: scikit-learn in /usr/local/lib/python3.6/dist-packages (from keras-tuner==1.0.2rc3) (0.22.2.post1)\n",
            "Requirement already satisfied: six in /usr/local/lib/python3.6/dist-packages (from packaging->keras-tuner==1.0.2rc3) (1.15.0)\n",
            "Requirement already satisfied: pyparsing>=2.0.2 in /usr/local/lib/python3.6/dist-packages (from packaging->keras-tuner==1.0.2rc3) (2.4.7)\n",
            "Requirement already satisfied: idna<3,>=2.5 in /usr/local/lib/python3.6/dist-packages (from requests->keras-tuner==1.0.2rc3) (2.10)\n",
            "Requirement already satisfied: chardet<4,>=3.0.2 in /usr/local/lib/python3.6/dist-packages (from requests->keras-tuner==1.0.2rc3) (3.0.4)\n",
            "Requirement already satisfied: certifi>=2017.4.17 in /usr/local/lib/python3.6/dist-packages (from requests->keras-tuner==1.0.2rc3) (2020.6.20)\n",
            "Requirement already satisfied: urllib3!=1.25.0,!=1.25.1,<1.26,>=1.21.1 in /usr/local/lib/python3.6/dist-packages (from requests->keras-tuner==1.0.2rc3) (1.24.3)\n",
            "Requirement already satisfied: joblib>=0.11 in /usr/local/lib/python3.6/dist-packages (from scikit-learn->keras-tuner==1.0.2rc3) (0.16.0)\n",
            "Building wheels for collected packages: keras-tuner, terminaltables\n",
            "  Building wheel for keras-tuner (setup.py) ... \u001b[?25l\u001b[?25hdone\n",
            "  Created wheel for keras-tuner: filename=keras_tuner-1.0.2rc3-cp36-none-any.whl size=91635 sha256=a3993ce001c912a46c81f4b3062ef58210b3f0f57966990ec30297d678bcd1ac\n",
            "  Stored in directory: /tmp/pip-ephem-wheel-cache-057wxf4g/wheels/2d/b8/84/5f9abbcad32fc56a0fdd5d1b8c267221abb5ec582dde4371f7\n",
            "  Building wheel for terminaltables (setup.py) ... \u001b[?25l\u001b[?25hdone\n",
            "  Created wheel for terminaltables: filename=terminaltables-3.1.0-cp36-none-any.whl size=15356 sha256=dbeed08c1f9ab115b079179b2b9894dce67c0f95917f29a0ee0f04e4941650d7\n",
            "  Stored in directory: /root/.cache/pip/wheels/30/6b/50/6c75775b681fb36cdfac7f19799888ef9d8813aff9e379663e\n",
            "Successfully built keras-tuner terminaltables\n",
            "Installing collected packages: terminaltables, colorama, keras-tuner\n",
            "Successfully installed colorama-0.4.4 keras-tuner-1.0.2rc3 terminaltables-3.1.0\n"
          ],
          "name": "stdout"
        }
      ]
    },
    {
      "cell_type": "code",
      "metadata": {
        "id": "dgvz7NJzebHR",
        "outputId": "5310e900-325b-4a3c-8dfb-28e2672727c7",
        "colab": {
          "base_uri": "https://localhost:8080/",
          "height": 1000
        }
      },
      "source": [
        "!pip install autokeras"
      ],
      "execution_count": 4,
      "outputs": [
        {
          "output_type": "stream",
          "text": [
            "Collecting autokeras\n",
            "\u001b[?25l  Downloading https://files.pythonhosted.org/packages/d5/d8/8300f3cf43dd4b669c0e589c8eedaf735c215722a9f607c1d5ec0644eb7e/autokeras-1.0.10-py3-none-any.whl (143kB)\n",
            "\r\u001b[K     |██▎                             | 10kB 20.0MB/s eta 0:00:01\r\u001b[K     |████▋                           | 20kB 19.7MB/s eta 0:00:01\r\u001b[K     |██████▉                         | 30kB 14.9MB/s eta 0:00:01\r\u001b[K     |█████████▏                      | 40kB 10.8MB/s eta 0:00:01\r\u001b[K     |███████████▍                    | 51kB 9.9MB/s eta 0:00:01\r\u001b[K     |█████████████▊                  | 61kB 9.0MB/s eta 0:00:01\r\u001b[K     |████████████████                | 71kB 9.2MB/s eta 0:00:01\r\u001b[K     |██████████████████▎             | 81kB 8.7MB/s eta 0:00:01\r\u001b[K     |████████████████████▋           | 92kB 9.0MB/s eta 0:00:01\r\u001b[K     |██████████████████████▉         | 102kB 8.6MB/s eta 0:00:01\r\u001b[K     |█████████████████████████▏      | 112kB 8.6MB/s eta 0:00:01\r\u001b[K     |███████████████████████████▍    | 122kB 8.6MB/s eta 0:00:01\r\u001b[K     |█████████████████████████████▊  | 133kB 8.6MB/s eta 0:00:01\r\u001b[K     |████████████████████████████████| 143kB 8.6MB/s \n",
            "\u001b[?25hRequirement already satisfied: scikit-learn in /usr/local/lib/python3.6/dist-packages (from autokeras) (0.22.2.post1)\n",
            "Requirement already satisfied: packaging in /usr/local/lib/python3.6/dist-packages (from autokeras) (20.4)\n",
            "Requirement already satisfied: tensorflow>=2.3.0 in /usr/local/lib/python3.6/dist-packages (from autokeras) (2.3.0)\n",
            "Collecting tf-models-official\n",
            "\u001b[?25l  Downloading https://files.pythonhosted.org/packages/5b/33/91e5e90e3e96292717245d3fe87eb3b35b07c8a2113f2da7f482040facdb/tf_models_official-2.3.0-py2.py3-none-any.whl (840kB)\n",
            "\u001b[K     |████████████████████████████████| 849kB 17.7MB/s \n",
            "\u001b[?25hRequirement already satisfied: pandas in /usr/local/lib/python3.6/dist-packages (from autokeras) (1.1.2)\n",
            "Requirement already satisfied: joblib>=0.11 in /usr/local/lib/python3.6/dist-packages (from scikit-learn->autokeras) (0.16.0)\n",
            "Requirement already satisfied: numpy>=1.11.0 in /usr/local/lib/python3.6/dist-packages (from scikit-learn->autokeras) (1.18.5)\n",
            "Requirement already satisfied: scipy>=0.17.0 in /usr/local/lib/python3.6/dist-packages (from scikit-learn->autokeras) (1.4.1)\n",
            "Requirement already satisfied: pyparsing>=2.0.2 in /usr/local/lib/python3.6/dist-packages (from packaging->autokeras) (2.4.7)\n",
            "Requirement already satisfied: six in /usr/local/lib/python3.6/dist-packages (from packaging->autokeras) (1.15.0)\n",
            "Requirement already satisfied: absl-py>=0.7.0 in /usr/local/lib/python3.6/dist-packages (from tensorflow>=2.3.0->autokeras) (0.10.0)\n",
            "Requirement already satisfied: astunparse==1.6.3 in /usr/local/lib/python3.6/dist-packages (from tensorflow>=2.3.0->autokeras) (1.6.3)\n",
            "Requirement already satisfied: wrapt>=1.11.1 in /usr/local/lib/python3.6/dist-packages (from tensorflow>=2.3.0->autokeras) (1.12.1)\n",
            "Requirement already satisfied: wheel>=0.26 in /usr/local/lib/python3.6/dist-packages (from tensorflow>=2.3.0->autokeras) (0.35.1)\n",
            "Requirement already satisfied: tensorflow-estimator<2.4.0,>=2.3.0 in /usr/local/lib/python3.6/dist-packages (from tensorflow>=2.3.0->autokeras) (2.3.0)\n",
            "Requirement already satisfied: keras-preprocessing<1.2,>=1.1.1 in /usr/local/lib/python3.6/dist-packages (from tensorflow>=2.3.0->autokeras) (1.1.2)\n",
            "Requirement already satisfied: opt-einsum>=2.3.2 in /usr/local/lib/python3.6/dist-packages (from tensorflow>=2.3.0->autokeras) (3.3.0)\n",
            "Requirement already satisfied: grpcio>=1.8.6 in /usr/local/lib/python3.6/dist-packages (from tensorflow>=2.3.0->autokeras) (1.32.0)\n",
            "Requirement already satisfied: protobuf>=3.9.2 in /usr/local/lib/python3.6/dist-packages (from tensorflow>=2.3.0->autokeras) (3.12.4)\n",
            "Requirement already satisfied: termcolor>=1.1.0 in /usr/local/lib/python3.6/dist-packages (from tensorflow>=2.3.0->autokeras) (1.1.0)\n",
            "Requirement already satisfied: google-pasta>=0.1.8 in /usr/local/lib/python3.6/dist-packages (from tensorflow>=2.3.0->autokeras) (0.2.0)\n",
            "Requirement already satisfied: h5py<2.11.0,>=2.10.0 in /usr/local/lib/python3.6/dist-packages (from tensorflow>=2.3.0->autokeras) (2.10.0)\n",
            "Requirement already satisfied: gast==0.3.3 in /usr/local/lib/python3.6/dist-packages (from tensorflow>=2.3.0->autokeras) (0.3.3)\n",
            "Requirement already satisfied: tensorboard<3,>=2.3.0 in /usr/local/lib/python3.6/dist-packages (from tensorflow>=2.3.0->autokeras) (2.3.0)\n",
            "Requirement already satisfied: google-cloud-bigquery>=0.31.0 in /usr/local/lib/python3.6/dist-packages (from tf-models-official->autokeras) (1.21.0)\n",
            "Requirement already satisfied: tensorflow-datasets in /usr/local/lib/python3.6/dist-packages (from tf-models-official->autokeras) (2.1.0)\n",
            "Requirement already satisfied: tensorflow-hub>=0.6.0 in /usr/local/lib/python3.6/dist-packages (from tf-models-official->autokeras) (0.9.0)\n",
            "Collecting tf-slim>=1.1.0\n",
            "\u001b[?25l  Downloading https://files.pythonhosted.org/packages/02/97/b0f4a64df018ca018cc035d44f2ef08f91e2e8aa67271f6f19633a015ff7/tf_slim-1.1.0-py2.py3-none-any.whl (352kB)\n",
            "\u001b[K     |████████████████████████████████| 358kB 51.3MB/s \n",
            "\u001b[?25hCollecting opencv-python-headless\n",
            "\u001b[?25l  Downloading https://files.pythonhosted.org/packages/e2/e2/6670da2b12544858657058a5db2f088a18c56d0144bef8d178ad4734b7a3/opencv_python_headless-4.4.0.44-cp36-cp36m-manylinux2014_x86_64.whl (36.7MB)\n",
            "\u001b[K     |████████████████████████████████| 36.7MB 82kB/s \n",
            "\u001b[?25hRequirement already satisfied: psutil>=5.4.3 in /usr/local/lib/python3.6/dist-packages (from tf-models-official->autokeras) (5.4.8)\n",
            "Requirement already satisfied: matplotlib in /usr/local/lib/python3.6/dist-packages (from tf-models-official->autokeras) (3.2.2)\n",
            "Requirement already satisfied: Pillow in /usr/local/lib/python3.6/dist-packages (from tf-models-official->autokeras) (7.0.0)\n",
            "Requirement already satisfied: tensorflow-addons in /usr/local/lib/python3.6/dist-packages (from tf-models-official->autokeras) (0.8.3)\n",
            "Requirement already satisfied: dataclasses in /usr/local/lib/python3.6/dist-packages (from tf-models-official->autokeras) (0.7)\n",
            "Collecting tensorflow-model-optimization>=0.2.1\n",
            "\u001b[?25l  Downloading https://files.pythonhosted.org/packages/55/38/4fd48ea1bfcb0b6e36d949025200426fe9c3a8bfae029f0973d85518fa5a/tensorflow_model_optimization-0.5.0-py2.py3-none-any.whl (172kB)\n",
            "\u001b[K     |████████████████████████████████| 174kB 58.5MB/s \n",
            "\u001b[?25hCollecting sentencepiece\n",
            "\u001b[?25l  Downloading https://files.pythonhosted.org/packages/e5/2d/6d4ca4bef9a67070fa1cac508606328329152b1df10bdf31fb6e4e727894/sentencepiece-0.1.94-cp36-cp36m-manylinux2014_x86_64.whl (1.1MB)\n",
            "\u001b[K     |████████████████████████████████| 1.1MB 49.8MB/s \n",
            "\u001b[?25hCollecting py-cpuinfo>=3.3.0\n",
            "\u001b[?25l  Downloading https://files.pythonhosted.org/packages/f6/f5/8e6e85ce2e9f6e05040cf0d4e26f43a4718bcc4bce988b433276d4b1a5c1/py-cpuinfo-7.0.0.tar.gz (95kB)\n",
            "\u001b[K     |████████████████████████████████| 102kB 15.1MB/s \n",
            "\u001b[?25hRequirement already satisfied: google-api-python-client>=1.6.7 in /usr/local/lib/python3.6/dist-packages (from tf-models-official->autokeras) (1.7.12)\n",
            "Requirement already satisfied: pyyaml in /usr/local/lib/python3.6/dist-packages (from tf-models-official->autokeras) (3.13)\n",
            "Requirement already satisfied: gin-config in /usr/local/lib/python3.6/dist-packages (from tf-models-official->autokeras) (0.3.0)\n",
            "Requirement already satisfied: kaggle>=1.3.9 in /usr/local/lib/python3.6/dist-packages (from tf-models-official->autokeras) (1.5.8)\n",
            "Requirement already satisfied: Cython in /usr/local/lib/python3.6/dist-packages (from tf-models-official->autokeras) (0.29.21)\n",
            "Requirement already satisfied: python-dateutil>=2.7.3 in /usr/local/lib/python3.6/dist-packages (from pandas->autokeras) (2.8.1)\n",
            "Requirement already satisfied: pytz>=2017.2 in /usr/local/lib/python3.6/dist-packages (from pandas->autokeras) (2018.9)\n",
            "Requirement already satisfied: setuptools in /usr/local/lib/python3.6/dist-packages (from protobuf>=3.9.2->tensorflow>=2.3.0->autokeras) (50.3.0)\n",
            "Requirement already satisfied: google-auth<2,>=1.6.3 in /usr/local/lib/python3.6/dist-packages (from tensorboard<3,>=2.3.0->tensorflow>=2.3.0->autokeras) (1.17.2)\n",
            "Requirement already satisfied: google-auth-oauthlib<0.5,>=0.4.1 in /usr/local/lib/python3.6/dist-packages (from tensorboard<3,>=2.3.0->tensorflow>=2.3.0->autokeras) (0.4.1)\n",
            "Requirement already satisfied: requests<3,>=2.21.0 in /usr/local/lib/python3.6/dist-packages (from tensorboard<3,>=2.3.0->tensorflow>=2.3.0->autokeras) (2.23.0)\n",
            "Requirement already satisfied: tensorboard-plugin-wit>=1.6.0 in /usr/local/lib/python3.6/dist-packages (from tensorboard<3,>=2.3.0->tensorflow>=2.3.0->autokeras) (1.7.0)\n",
            "Requirement already satisfied: werkzeug>=0.11.15 in /usr/local/lib/python3.6/dist-packages (from tensorboard<3,>=2.3.0->tensorflow>=2.3.0->autokeras) (1.0.1)\n",
            "Requirement already satisfied: markdown>=2.6.8 in /usr/local/lib/python3.6/dist-packages (from tensorboard<3,>=2.3.0->tensorflow>=2.3.0->autokeras) (3.2.2)\n",
            "Requirement already satisfied: google-cloud-core<2.0dev,>=1.0.3 in /usr/local/lib/python3.6/dist-packages (from google-cloud-bigquery>=0.31.0->tf-models-official->autokeras) (1.0.3)\n",
            "Requirement already satisfied: google-resumable-media!=0.4.0,<0.5.0dev,>=0.3.1 in /usr/local/lib/python3.6/dist-packages (from google-cloud-bigquery>=0.31.0->tf-models-official->autokeras) (0.4.1)\n",
            "Requirement already satisfied: future in /usr/local/lib/python3.6/dist-packages (from tensorflow-datasets->tf-models-official->autokeras) (0.16.0)\n",
            "Requirement already satisfied: tqdm in /usr/local/lib/python3.6/dist-packages (from tensorflow-datasets->tf-models-official->autokeras) (4.41.1)\n",
            "Requirement already satisfied: promise in /usr/local/lib/python3.6/dist-packages (from tensorflow-datasets->tf-models-official->autokeras) (2.3)\n",
            "Requirement already satisfied: dill in /usr/local/lib/python3.6/dist-packages (from tensorflow-datasets->tf-models-official->autokeras) (0.3.2)\n",
            "Requirement already satisfied: attrs>=18.1.0 in /usr/local/lib/python3.6/dist-packages (from tensorflow-datasets->tf-models-official->autokeras) (20.2.0)\n",
            "Requirement already satisfied: tensorflow-metadata in /usr/local/lib/python3.6/dist-packages (from tensorflow-datasets->tf-models-official->autokeras) (0.24.0)\n",
            "Requirement already satisfied: cycler>=0.10 in /usr/local/lib/python3.6/dist-packages (from matplotlib->tf-models-official->autokeras) (0.10.0)\n",
            "Requirement already satisfied: kiwisolver>=1.0.1 in /usr/local/lib/python3.6/dist-packages (from matplotlib->tf-models-official->autokeras) (1.2.0)\n",
            "Requirement already satisfied: typeguard in /usr/local/lib/python3.6/dist-packages (from tensorflow-addons->tf-models-official->autokeras) (2.7.1)\n",
            "Requirement already satisfied: dm-tree~=0.1.1 in /usr/local/lib/python3.6/dist-packages (from tensorflow-model-optimization>=0.2.1->tf-models-official->autokeras) (0.1.5)\n",
            "Requirement already satisfied: google-auth-httplib2>=0.0.3 in /usr/local/lib/python3.6/dist-packages (from google-api-python-client>=1.6.7->tf-models-official->autokeras) (0.0.4)\n",
            "Requirement already satisfied: uritemplate<4dev,>=3.0.0 in /usr/local/lib/python3.6/dist-packages (from google-api-python-client>=1.6.7->tf-models-official->autokeras) (3.0.1)\n",
            "Requirement already satisfied: httplib2<1dev,>=0.17.0 in /usr/local/lib/python3.6/dist-packages (from google-api-python-client>=1.6.7->tf-models-official->autokeras) (0.17.4)\n",
            "Requirement already satisfied: certifi in /usr/local/lib/python3.6/dist-packages (from kaggle>=1.3.9->tf-models-official->autokeras) (2020.6.20)\n",
            "Requirement already satisfied: urllib3<1.25,>=1.21.1 in /usr/local/lib/python3.6/dist-packages (from kaggle>=1.3.9->tf-models-official->autokeras) (1.24.3)\n",
            "Requirement already satisfied: python-slugify in /usr/local/lib/python3.6/dist-packages (from kaggle>=1.3.9->tf-models-official->autokeras) (4.0.1)\n",
            "Requirement already satisfied: slugify in /usr/local/lib/python3.6/dist-packages (from kaggle>=1.3.9->tf-models-official->autokeras) (0.0.1)\n",
            "Requirement already satisfied: pyasn1-modules>=0.2.1 in /usr/local/lib/python3.6/dist-packages (from google-auth<2,>=1.6.3->tensorboard<3,>=2.3.0->tensorflow>=2.3.0->autokeras) (0.2.8)\n",
            "Requirement already satisfied: rsa<5,>=3.1.4; python_version >= \"3\" in /usr/local/lib/python3.6/dist-packages (from google-auth<2,>=1.6.3->tensorboard<3,>=2.3.0->tensorflow>=2.3.0->autokeras) (4.6)\n",
            "Requirement already satisfied: cachetools<5.0,>=2.0.0 in /usr/local/lib/python3.6/dist-packages (from google-auth<2,>=1.6.3->tensorboard<3,>=2.3.0->tensorflow>=2.3.0->autokeras) (4.1.1)\n",
            "Requirement already satisfied: requests-oauthlib>=0.7.0 in /usr/local/lib/python3.6/dist-packages (from google-auth-oauthlib<0.5,>=0.4.1->tensorboard<3,>=2.3.0->tensorflow>=2.3.0->autokeras) (1.3.0)\n",
            "Requirement already satisfied: idna<3,>=2.5 in /usr/local/lib/python3.6/dist-packages (from requests<3,>=2.21.0->tensorboard<3,>=2.3.0->tensorflow>=2.3.0->autokeras) (2.10)\n",
            "Requirement already satisfied: chardet<4,>=3.0.2 in /usr/local/lib/python3.6/dist-packages (from requests<3,>=2.21.0->tensorboard<3,>=2.3.0->tensorflow>=2.3.0->autokeras) (3.0.4)\n",
            "Requirement already satisfied: importlib-metadata; python_version < \"3.8\" in /usr/local/lib/python3.6/dist-packages (from markdown>=2.6.8->tensorboard<3,>=2.3.0->tensorflow>=2.3.0->autokeras) (2.0.0)\n",
            "Requirement already satisfied: google-api-core<2.0.0dev,>=1.14.0 in /usr/local/lib/python3.6/dist-packages (from google-cloud-core<2.0dev,>=1.0.3->google-cloud-bigquery>=0.31.0->tf-models-official->autokeras) (1.16.0)\n",
            "Requirement already satisfied: googleapis-common-protos<2,>=1.52.0 in /usr/local/lib/python3.6/dist-packages (from tensorflow-metadata->tensorflow-datasets->tf-models-official->autokeras) (1.52.0)\n",
            "Requirement already satisfied: text-unidecode>=1.3 in /usr/local/lib/python3.6/dist-packages (from python-slugify->kaggle>=1.3.9->tf-models-official->autokeras) (1.3)\n",
            "Requirement already satisfied: pyasn1<0.5.0,>=0.4.6 in /usr/local/lib/python3.6/dist-packages (from pyasn1-modules>=0.2.1->google-auth<2,>=1.6.3->tensorboard<3,>=2.3.0->tensorflow>=2.3.0->autokeras) (0.4.8)\n",
            "Requirement already satisfied: oauthlib>=3.0.0 in /usr/local/lib/python3.6/dist-packages (from requests-oauthlib>=0.7.0->google-auth-oauthlib<0.5,>=0.4.1->tensorboard<3,>=2.3.0->tensorflow>=2.3.0->autokeras) (3.1.0)\n",
            "Requirement already satisfied: zipp>=0.5 in /usr/local/lib/python3.6/dist-packages (from importlib-metadata; python_version < \"3.8\"->markdown>=2.6.8->tensorboard<3,>=2.3.0->tensorflow>=2.3.0->autokeras) (3.2.0)\n",
            "Building wheels for collected packages: py-cpuinfo\n",
            "  Building wheel for py-cpuinfo (setup.py) ... \u001b[?25l\u001b[?25hdone\n",
            "  Created wheel for py-cpuinfo: filename=py_cpuinfo-7.0.0-cp36-none-any.whl size=20071 sha256=b0481de092f679d88c75d00b7f6b20add40258fe7fe070682af880be2528ba78\n",
            "  Stored in directory: /root/.cache/pip/wheels/f1/93/7b/127daf0c3a5a49feb2fecd468d508067c733fba5192f726ad1\n",
            "Successfully built py-cpuinfo\n",
            "Installing collected packages: tf-slim, opencv-python-headless, tensorflow-model-optimization, sentencepiece, py-cpuinfo, tf-models-official, autokeras\n",
            "Successfully installed autokeras-1.0.10 opencv-python-headless-4.4.0.44 py-cpuinfo-7.0.0 sentencepiece-0.1.94 tensorflow-model-optimization-0.5.0 tf-models-official-2.3.0 tf-slim-1.1.0\n"
          ],
          "name": "stdout"
        }
      ]
    },
    {
      "cell_type": "markdown",
      "metadata": {
        "id": "fSS5WfcSN5SW"
      },
      "source": [
        "**Reading the data**"
      ]
    },
    {
      "cell_type": "code",
      "metadata": {
        "id": "FqqqFxOsONZ7"
      },
      "source": [
        "# dataset downloaded from https://www.kaggle.com/aritrachakraborti/ipl-2020-ball-by-ball-data?select=Deliveries+IPL+2020.csv"
      ],
      "execution_count": null,
      "outputs": []
    },
    {
      "cell_type": "code",
      "metadata": {
        "id": "tMH8nygxHGrv"
      },
      "source": [
        "# Reading IPL 2008 to 2019 data\n",
        "\n",
        "df_Deliveries_old = pd.read_csv(\"Deliveries IPL 2008-2019.csv\")\n",
        "\n",
        "# Reading IPL 2020 data\n",
        "\n",
        "df_Deliveries_20 = pd.read_csv(\"Deliveries IPL 2020.csv\")"
      ],
      "execution_count": 48,
      "outputs": []
    },
    {
      "cell_type": "code",
      "metadata": {
        "id": "_blFNev7HDOp"
      },
      "source": [
        "# Merging both the df\n",
        "\n",
        "frames = [df_Deliveries_old,df_Deliveries_20]\n",
        "df = pd.concat(frames)"
      ],
      "execution_count": 49,
      "outputs": []
    },
    {
      "cell_type": "code",
      "metadata": {
        "id": "aZfoUr8pvWL_",
        "outputId": "48db70ab-4bf3-43c1-f679-e35c189d8418",
        "colab": {
          "base_uri": "https://localhost:8080/",
          "height": 131
        }
      },
      "source": [
        "df.head(1)"
      ],
      "execution_count": 50,
      "outputs": [
        {
          "output_type": "execute_result",
          "data": {
            "text/html": [
              "<div>\n",
              "<style scoped>\n",
              "    .dataframe tbody tr th:only-of-type {\n",
              "        vertical-align: middle;\n",
              "    }\n",
              "\n",
              "    .dataframe tbody tr th {\n",
              "        vertical-align: top;\n",
              "    }\n",
              "\n",
              "    .dataframe thead th {\n",
              "        text-align: right;\n",
              "    }\n",
              "</style>\n",
              "<table border=\"1\" class=\"dataframe\">\n",
              "  <thead>\n",
              "    <tr style=\"text-align: right;\">\n",
              "      <th></th>\n",
              "      <th>match_id</th>\n",
              "      <th>inning</th>\n",
              "      <th>batting_team</th>\n",
              "      <th>bowling_team</th>\n",
              "      <th>over</th>\n",
              "      <th>ball</th>\n",
              "      <th>batsman</th>\n",
              "      <th>non_striker</th>\n",
              "      <th>bowler</th>\n",
              "      <th>is_super_over</th>\n",
              "      <th>wide_runs</th>\n",
              "      <th>bye_runs</th>\n",
              "      <th>legbye_runs</th>\n",
              "      <th>noball_runs</th>\n",
              "      <th>penalty_runs</th>\n",
              "      <th>batsman_runs</th>\n",
              "      <th>extra_runs</th>\n",
              "      <th>total_runs</th>\n",
              "      <th>player_dismissed</th>\n",
              "      <th>dismissal_kind</th>\n",
              "      <th>fielder</th>\n",
              "    </tr>\n",
              "  </thead>\n",
              "  <tbody>\n",
              "    <tr>\n",
              "      <th>0</th>\n",
              "      <td>1</td>\n",
              "      <td>1</td>\n",
              "      <td>Sunrisers Hyderabad</td>\n",
              "      <td>Royal Challengers Bangalore</td>\n",
              "      <td>1</td>\n",
              "      <td>1</td>\n",
              "      <td>DA Warner</td>\n",
              "      <td>S Dhawan</td>\n",
              "      <td>TS Mills</td>\n",
              "      <td>0</td>\n",
              "      <td>0</td>\n",
              "      <td>0</td>\n",
              "      <td>0</td>\n",
              "      <td>0</td>\n",
              "      <td>0</td>\n",
              "      <td>0</td>\n",
              "      <td>0</td>\n",
              "      <td>0</td>\n",
              "      <td>NaN</td>\n",
              "      <td>NaN</td>\n",
              "      <td>NaN</td>\n",
              "    </tr>\n",
              "  </tbody>\n",
              "</table>\n",
              "</div>"
            ],
            "text/plain": [
              "   match_id  inning  ... dismissal_kind fielder\n",
              "0         1       1  ...            NaN     NaN\n",
              "\n",
              "[1 rows x 21 columns]"
            ]
          },
          "metadata": {
            "tags": []
          },
          "execution_count": 50
        }
      ]
    },
    {
      "cell_type": "markdown",
      "metadata": {
        "id": "kyRP85bHO8_W"
      },
      "source": [
        "**Data cleaning**"
      ]
    },
    {
      "cell_type": "code",
      "metadata": {
        "id": "49igOXI6G_vv"
      },
      "source": [
        "# Subsetting the dataset with only required features\n",
        "\n",
        "df=df[['match_id','inning','batting_team','bowling_team','over','ball','total_runs','player_dismissed']]\n",
        "\n",
        "df=df.rename(columns={\"match_id\": \"id\"})"
      ],
      "execution_count": 51,
      "outputs": []
    },
    {
      "cell_type": "code",
      "metadata": {
        "id": "tNKVRPxS0TOf",
        "outputId": "d1ccb0fc-34d8-4bad-d6df-ef808a015ec0",
        "colab": {
          "base_uri": "https://localhost:8080/",
          "height": 77
        }
      },
      "source": [
        "df.head(1)"
      ],
      "execution_count": 52,
      "outputs": [
        {
          "output_type": "execute_result",
          "data": {
            "text/html": [
              "<div>\n",
              "<style scoped>\n",
              "    .dataframe tbody tr th:only-of-type {\n",
              "        vertical-align: middle;\n",
              "    }\n",
              "\n",
              "    .dataframe tbody tr th {\n",
              "        vertical-align: top;\n",
              "    }\n",
              "\n",
              "    .dataframe thead th {\n",
              "        text-align: right;\n",
              "    }\n",
              "</style>\n",
              "<table border=\"1\" class=\"dataframe\">\n",
              "  <thead>\n",
              "    <tr style=\"text-align: right;\">\n",
              "      <th></th>\n",
              "      <th>id</th>\n",
              "      <th>inning</th>\n",
              "      <th>batting_team</th>\n",
              "      <th>bowling_team</th>\n",
              "      <th>over</th>\n",
              "      <th>ball</th>\n",
              "      <th>total_runs</th>\n",
              "      <th>player_dismissed</th>\n",
              "    </tr>\n",
              "  </thead>\n",
              "  <tbody>\n",
              "    <tr>\n",
              "      <th>0</th>\n",
              "      <td>1</td>\n",
              "      <td>1</td>\n",
              "      <td>Sunrisers Hyderabad</td>\n",
              "      <td>Royal Challengers Bangalore</td>\n",
              "      <td>1</td>\n",
              "      <td>1</td>\n",
              "      <td>0</td>\n",
              "      <td>NaN</td>\n",
              "    </tr>\n",
              "  </tbody>\n",
              "</table>\n",
              "</div>"
            ],
            "text/plain": [
              "   id  inning         batting_team  ... ball  total_runs  player_dismissed\n",
              "0   1       1  Sunrisers Hyderabad  ...    1           0               NaN\n",
              "\n",
              "[1 rows x 8 columns]"
            ]
          },
          "metadata": {
            "tags": []
          },
          "execution_count": 52
        }
      ]
    },
    {
      "cell_type": "code",
      "metadata": {
        "id": "ICovjbafxH5v",
        "outputId": "ec16ba00-f0da-4894-ccce-23f19079a33e",
        "colab": {
          "base_uri": "https://localhost:8080/",
          "height": 141
        }
      },
      "source": [
        "df['batting_team'].unique()"
      ],
      "execution_count": 53,
      "outputs": [
        {
          "output_type": "execute_result",
          "data": {
            "text/plain": [
              "array(['Sunrisers Hyderabad', 'Royal Challengers Bangalore',\n",
              "       'Mumbai Indians', 'Rising Pune Supergiant', 'Gujarat Lions',\n",
              "       'Kolkata Knight Riders', 'Kings XI Punjab', 'Delhi Daredevils',\n",
              "       'Chennai Super Kings', 'Rajasthan Royals', 'Deccan Chargers',\n",
              "       'Kochi Tuskers Kerala', 'Pune Warriors', 'Rising Pune Supergiants',\n",
              "       'Delhi Capitals', 'MI', 'CSK', 'DC', 'KXIP', 'RCB', 'SRH', 'RR',\n",
              "       'KKR'], dtype=object)"
            ]
          },
          "metadata": {
            "tags": []
          },
          "execution_count": 53
        }
      ]
    },
    {
      "cell_type": "code",
      "metadata": {
        "id": "SG-_BcoBxICI"
      },
      "source": [
        "# Subsetting the dataset with only consistent teams\n",
        "\n",
        "df=df[~df.batting_team.str.contains(\"Pune\")]\n",
        "df=df[~df.batting_team.str.contains(\"Kochi\")]\n",
        "df=df[~df.batting_team.str.contains(\"Gujarat\")]\n",
        "df=df[~df.bowling_team.str.contains(\"Pune\")]\n",
        "df=df[~df.bowling_team.str.contains(\"Kochi\")]\n",
        "df=df[~df.bowling_team.str.contains(\"Gujarat\")]"
      ],
      "execution_count": 54,
      "outputs": []
    },
    {
      "cell_type": "code",
      "metadata": {
        "id": "mjXYMxw90dJi",
        "outputId": "87ab3ea0-5b4d-4413-e828-a6550b1b4194",
        "colab": {
          "base_uri": "https://localhost:8080/",
          "height": 77
        }
      },
      "source": [
        "df.head(1)"
      ],
      "execution_count": 55,
      "outputs": [
        {
          "output_type": "execute_result",
          "data": {
            "text/html": [
              "<div>\n",
              "<style scoped>\n",
              "    .dataframe tbody tr th:only-of-type {\n",
              "        vertical-align: middle;\n",
              "    }\n",
              "\n",
              "    .dataframe tbody tr th {\n",
              "        vertical-align: top;\n",
              "    }\n",
              "\n",
              "    .dataframe thead th {\n",
              "        text-align: right;\n",
              "    }\n",
              "</style>\n",
              "<table border=\"1\" class=\"dataframe\">\n",
              "  <thead>\n",
              "    <tr style=\"text-align: right;\">\n",
              "      <th></th>\n",
              "      <th>id</th>\n",
              "      <th>inning</th>\n",
              "      <th>batting_team</th>\n",
              "      <th>bowling_team</th>\n",
              "      <th>over</th>\n",
              "      <th>ball</th>\n",
              "      <th>total_runs</th>\n",
              "      <th>player_dismissed</th>\n",
              "    </tr>\n",
              "  </thead>\n",
              "  <tbody>\n",
              "    <tr>\n",
              "      <th>0</th>\n",
              "      <td>1</td>\n",
              "      <td>1</td>\n",
              "      <td>Sunrisers Hyderabad</td>\n",
              "      <td>Royal Challengers Bangalore</td>\n",
              "      <td>1</td>\n",
              "      <td>1</td>\n",
              "      <td>0</td>\n",
              "      <td>NaN</td>\n",
              "    </tr>\n",
              "  </tbody>\n",
              "</table>\n",
              "</div>"
            ],
            "text/plain": [
              "   id  inning         batting_team  ... ball  total_runs  player_dismissed\n",
              "0   1       1  Sunrisers Hyderabad  ...    1           0               NaN\n",
              "\n",
              "[1 rows x 8 columns]"
            ]
          },
          "metadata": {
            "tags": []
          },
          "execution_count": 55
        }
      ]
    },
    {
      "cell_type": "code",
      "metadata": {
        "id": "_nXdKGLsxIHy",
        "outputId": "71cd55af-4ffd-45be-c8af-f378a4f6ea2e",
        "colab": {
          "base_uri": "https://localhost:8080/",
          "height": 105
        }
      },
      "source": [
        "df['batting_team'].unique()"
      ],
      "execution_count": 56,
      "outputs": [
        {
          "output_type": "execute_result",
          "data": {
            "text/plain": [
              "array(['Sunrisers Hyderabad', 'Royal Challengers Bangalore',\n",
              "       'Delhi Daredevils', 'Kolkata Knight Riders', 'Mumbai Indians',\n",
              "       'Kings XI Punjab', 'Chennai Super Kings', 'Rajasthan Royals',\n",
              "       'Deccan Chargers', 'Delhi Capitals', 'MI', 'CSK', 'DC', 'KXIP',\n",
              "       'RCB', 'SRH', 'RR', 'KKR'], dtype=object)"
            ]
          },
          "metadata": {
            "tags": []
          },
          "execution_count": 56
        }
      ]
    },
    {
      "cell_type": "code",
      "metadata": {
        "id": "fyI8Nzw1Ot8R"
      },
      "source": [
        "# renaming the team names"
      ],
      "execution_count": 57,
      "outputs": []
    },
    {
      "cell_type": "code",
      "metadata": {
        "id": "uNXXWTGr0ivK"
      },
      "source": [
        "df['batting_team']=df['batting_team'].replace({'Sunrisers Hyderabad': 'SRH', 'Deccan Chargers': 'SRH','Royal Challengers Bangalore': 'RCB', 'Mumbai Indians': 'MI',\n",
        "                        'Kolkata Knight Riders': 'KKR', 'Kings XI Punjab': 'KXIP','Delhi Daredevils': 'DC', 'Delhi Capitals': 'DC',\n",
        "                        'Chennai Super Kings': 'CSK', 'Rajasthan Royals': 'RR'})"
      ],
      "execution_count": 58,
      "outputs": []
    },
    {
      "cell_type": "code",
      "metadata": {
        "id": "zjcEYxHryxz1"
      },
      "source": [
        "df['bowling_team']=df['bowling_team'].replace({'Sunrisers Hyderabad': 'SRH', 'Deccan Chargers': 'SRH','Royal Challengers Bangalore': 'RCB', 'Mumbai Indians': 'MI',\n",
        "                        'Kolkata Knight Riders': 'KKR', 'Kings XI Punjab': 'KXIP','Delhi Daredevils': 'DC', 'Delhi Capitals': 'DC',\n",
        "                        'Chennai Super Kings': 'CSK', 'Rajasthan Royals': 'RR'})"
      ],
      "execution_count": 59,
      "outputs": []
    },
    {
      "cell_type": "code",
      "metadata": {
        "id": "1Lt9B_jU0D--",
        "outputId": "adc0eeda-c52a-4a1a-86a1-e943dd4492f1",
        "colab": {
          "base_uri": "https://localhost:8080/",
          "height": 34
        }
      },
      "source": [
        "df['batting_team'].unique()"
      ],
      "execution_count": 60,
      "outputs": [
        {
          "output_type": "execute_result",
          "data": {
            "text/plain": [
              "array(['SRH', 'RCB', 'DC', 'KKR', 'MI', 'KXIP', 'CSK', 'RR'], dtype=object)"
            ]
          },
          "metadata": {
            "tags": []
          },
          "execution_count": 60
        }
      ]
    },
    {
      "cell_type": "code",
      "metadata": {
        "id": "Sz8vAFe403sR",
        "outputId": "9254b164-e3c4-4d64-b83f-52e71281ab11",
        "colab": {
          "base_uri": "https://localhost:8080/",
          "height": 34
        }
      },
      "source": [
        "df['bowling_team'].unique()"
      ],
      "execution_count": 61,
      "outputs": [
        {
          "output_type": "execute_result",
          "data": {
            "text/plain": [
              "array(['RCB', 'SRH', 'DC', 'MI', 'KKR', 'KXIP', 'CSK', 'RR'], dtype=object)"
            ]
          },
          "metadata": {
            "tags": []
          },
          "execution_count": 61
        }
      ]
    },
    {
      "cell_type": "code",
      "metadata": {
        "id": "TmqXPhY80KE4",
        "outputId": "1ec62a5f-4be6-498d-99fa-70f6e8ae963b",
        "colab": {
          "base_uri": "https://localhost:8080/",
          "height": 77
        }
      },
      "source": [
        "df.head(1)"
      ],
      "execution_count": 62,
      "outputs": [
        {
          "output_type": "execute_result",
          "data": {
            "text/html": [
              "<div>\n",
              "<style scoped>\n",
              "    .dataframe tbody tr th:only-of-type {\n",
              "        vertical-align: middle;\n",
              "    }\n",
              "\n",
              "    .dataframe tbody tr th {\n",
              "        vertical-align: top;\n",
              "    }\n",
              "\n",
              "    .dataframe thead th {\n",
              "        text-align: right;\n",
              "    }\n",
              "</style>\n",
              "<table border=\"1\" class=\"dataframe\">\n",
              "  <thead>\n",
              "    <tr style=\"text-align: right;\">\n",
              "      <th></th>\n",
              "      <th>id</th>\n",
              "      <th>inning</th>\n",
              "      <th>batting_team</th>\n",
              "      <th>bowling_team</th>\n",
              "      <th>over</th>\n",
              "      <th>ball</th>\n",
              "      <th>total_runs</th>\n",
              "      <th>player_dismissed</th>\n",
              "    </tr>\n",
              "  </thead>\n",
              "  <tbody>\n",
              "    <tr>\n",
              "      <th>0</th>\n",
              "      <td>1</td>\n",
              "      <td>1</td>\n",
              "      <td>SRH</td>\n",
              "      <td>RCB</td>\n",
              "      <td>1</td>\n",
              "      <td>1</td>\n",
              "      <td>0</td>\n",
              "      <td>NaN</td>\n",
              "    </tr>\n",
              "  </tbody>\n",
              "</table>\n",
              "</div>"
            ],
            "text/plain": [
              "   id  inning batting_team  ... ball  total_runs  player_dismissed\n",
              "0   1       1          SRH  ...    1           0               NaN\n",
              "\n",
              "[1 rows x 8 columns]"
            ]
          },
          "metadata": {
            "tags": []
          },
          "execution_count": 62
        }
      ]
    },
    {
      "cell_type": "markdown",
      "metadata": {
        "id": "RmBtDzPUPBb1"
      },
      "source": [
        "**Feature engineering**"
      ]
    },
    {
      "cell_type": "code",
      "metadata": {
        "id": "NLMIeZ1A1IlB"
      },
      "source": [
        "# reducing the over values by 1 \n",
        "\n",
        "df['over']=df['over']-1"
      ],
      "execution_count": 63,
      "outputs": []
    },
    {
      "cell_type": "code",
      "metadata": {
        "id": "oX9CNM_hHfEn"
      },
      "source": [
        "# replacing the null values with 0\n",
        "\n",
        "df = df.replace(np.nan, 0)\n",
        "df.reset_index(inplace=True)\n",
        "df = df.drop('index', 1)"
      ],
      "execution_count": 64,
      "outputs": []
    },
    {
      "cell_type": "code",
      "metadata": {
        "id": "ogjgvbyIHiYf"
      },
      "source": [
        "# total runs scored till current ball\n",
        "\n",
        "df['total_score']=df.groupby(['id', 'inning'])['total_runs'].apply(lambda x: x.cumsum())\n",
        "\n",
        "# total wickets fallen in the innings\n",
        "\n",
        "df['player_dismissed']=np.where(df['player_dismissed']==0, 0, 1)\n",
        "\n",
        "df['total_wickets']=df.groupby(['id', 'inning'])['player_dismissed'].apply(lambda x: x.cumsum())"
      ],
      "execution_count": 65,
      "outputs": []
    },
    {
      "cell_type": "code",
      "metadata": {
        "id": "0zb7YxPq5qAY"
      },
      "source": [
        "df = df.replace(np.nan, 0)\n",
        "df = df.replace(np.inf, 0)"
      ],
      "execution_count": 66,
      "outputs": []
    },
    {
      "cell_type": "code",
      "metadata": {
        "id": "32XAlwgI6JqB"
      },
      "source": [
        "#total runs scored in the innings\n",
        "\n",
        "df['total']=df.groupby(['id','inning'])['total_runs'].transform('sum')"
      ],
      "execution_count": 67,
      "outputs": []
    },
    {
      "cell_type": "code",
      "metadata": {
        "id": "UwPeH5g2-o4b"
      },
      "source": [
        "# runs scored in previous 30 balls\n",
        "\n",
        "tmp=df.groupby(['id','inning'])['total_runs'].rolling(min_periods=1, window=30).sum().reset_index()\n",
        "\n",
        "df['prev_runs_30']=tmp[['total_runs']]"
      ],
      "execution_count": 68,
      "outputs": []
    },
    {
      "cell_type": "code",
      "metadata": {
        "id": "cvMXftWYEWNf"
      },
      "source": [
        "# wickets fallen in previous 30 balls\n",
        "\n",
        "tmp=df.groupby(['id','inning'])['player_dismissed'].rolling(min_periods=1, window=30).sum().reset_index()\n",
        "\n",
        "df['prev_wickets_30']=tmp[['player_dismissed']]"
      ],
      "execution_count": 69,
      "outputs": []
    },
    {
      "cell_type": "code",
      "metadata": {
        "id": "Jfpl9dIOiz7G"
      },
      "source": [
        "# dot balls in previous 30 balls\n",
        "\n",
        "df['prev_30_dot_balls']=df['total_runs']\n",
        "df['prev_30_dot_balls']=np.where(df['prev_30_dot_balls']==0, 1, 0)\n",
        "\n",
        "tmp=df.groupby(['id','inning'])['prev_30_dot_balls'].rolling(min_periods=1, window=30).sum().reset_index()\n",
        "df['prev_30_dot_balls']=tmp[['prev_30_dot_balls']]"
      ],
      "execution_count": 78,
      "outputs": []
    },
    {
      "cell_type": "code",
      "metadata": {
        "id": "TNQNUCBOlz6-"
      },
      "source": [
        "# dot balls in previous 30 balls\n",
        "\n",
        "df['prev_30_boundaries']=df['total_runs']\n",
        "df['prev_30_boundaries']=np.where(df['prev_30_boundaries']>3, 1, 0)\n",
        "\n",
        "tmp=df.groupby(['id','inning'])['prev_30_boundaries'].rolling(min_periods=1, window=30).sum().reset_index()\n",
        "df['prev_30_boundaries']=tmp[['prev_30_boundaries']]"
      ],
      "execution_count": 83,
      "outputs": []
    },
    {
      "cell_type": "code",
      "metadata": {
        "id": "qfH1pYAkLMz6"
      },
      "source": [
        "df['overs']=df['over'].astype(str) + '.' + df['ball'].astype(str)"
      ],
      "execution_count": 87,
      "outputs": []
    },
    {
      "cell_type": "markdown",
      "metadata": {
        "id": "5R74dePXQbYk"
      },
      "source": [
        "## **Building model for first innings**"
      ]
    },
    {
      "cell_type": "code",
      "metadata": {
        "id": "LYf-K9o6Mu1e"
      },
      "source": [
        "df_first_innings=df.copy()"
      ],
      "execution_count": 88,
      "outputs": []
    },
    {
      "cell_type": "code",
      "metadata": {
        "id": "UnnaexRxkG0C"
      },
      "source": [
        "df_first_innings=df_first_innings.loc[df_first_innings['inning'] == 1]"
      ],
      "execution_count": 89,
      "outputs": []
    },
    {
      "cell_type": "code",
      "metadata": {
        "id": "m04FbTXhNXjv"
      },
      "source": [
        "df_first_innings=pd.get_dummies(data=df_first_innings, columns=['batting_team', 'bowling_team'])"
      ],
      "execution_count": 90,
      "outputs": []
    },
    {
      "cell_type": "code",
      "metadata": {
        "id": "0Cn_kbMhN_C1",
        "outputId": "e519bf04-75fb-4c16-d285-305358ee07e5",
        "colab": {
          "base_uri": "https://localhost:8080/",
          "height": 194
        }
      },
      "source": [
        "df_first_innings.columns"
      ],
      "execution_count": 91,
      "outputs": [
        {
          "output_type": "execute_result",
          "data": {
            "text/plain": [
              "Index(['id', 'inning', 'over', 'ball', 'total_runs', 'player_dismissed',\n",
              "       'total_score', 'total_wickets', 'total', 'prev_runs_30',\n",
              "       'prev_wickets_30', 'prev_30_dot_balls', 'prev_30_boundaries', 'overs',\n",
              "       'batting_team_CSK', 'batting_team_DC', 'batting_team_KKR',\n",
              "       'batting_team_KXIP', 'batting_team_MI', 'batting_team_RCB',\n",
              "       'batting_team_RR', 'batting_team_SRH', 'bowling_team_CSK',\n",
              "       'bowling_team_DC', 'bowling_team_KKR', 'bowling_team_KXIP',\n",
              "       'bowling_team_MI', 'bowling_team_RCB', 'bowling_team_RR',\n",
              "       'bowling_team_SRH'],\n",
              "      dtype='object')"
            ]
          },
          "metadata": {
            "tags": []
          },
          "execution_count": 91
        }
      ]
    },
    {
      "cell_type": "code",
      "metadata": {
        "id": "7tu3q0MJOHz2"
      },
      "source": [
        "df_first_innings=df_first_innings[['id','batting_team_CSK', 'batting_team_DC','batting_team_KKR', 'batting_team_KXIP', 'batting_team_MI',\n",
        "                   'batting_team_RCB', 'batting_team_RR', 'batting_team_SRH','bowling_team_CSK', 'bowling_team_DC', 'bowling_team_KKR',\n",
        "                  'bowling_team_KXIP', 'bowling_team_MI', 'bowling_team_RCB','bowling_team_RR', 'bowling_team_SRH',\n",
        "                   'overs','total_score','total_wickets','prev_runs_30','prev_wickets_30','prev_30_dot_balls','prev_30_boundaries','total']]"
      ],
      "execution_count": 92,
      "outputs": []
    },
    {
      "cell_type": "code",
      "metadata": {
        "id": "q01O2wNzkeFV",
        "outputId": "10fda15f-a12a-4a51-8e17-58464a3ffb71",
        "colab": {
          "base_uri": "https://localhost:8080/",
          "height": 34
        }
      },
      "source": [
        "len(df_first_innings)"
      ],
      "execution_count": 93,
      "outputs": [
        {
          "output_type": "execute_result",
          "data": {
            "text/plain": [
              "83691"
            ]
          },
          "metadata": {
            "tags": []
          },
          "execution_count": 93
        }
      ]
    },
    {
      "cell_type": "code",
      "metadata": {
        "id": "xqOpi4EpRB7z"
      },
      "source": [
        "from sklearn.model_selection import train_test_split\n",
        "\n",
        "X = df_first_innings.drop(labels=['total','id'], axis=1)\n",
        "y = df_first_innings['total'].values"
      ],
      "execution_count": 94,
      "outputs": []
    },
    {
      "cell_type": "code",
      "metadata": {
        "id": "BoA3pKNKRgX6"
      },
      "source": [
        "# split into train test sets\n",
        "X_train, X_test, y_train, y_test = train_test_split(X, y, test_size=0.25,random_state=42,stratify=y)"
      ],
      "execution_count": 95,
      "outputs": []
    },
    {
      "cell_type": "code",
      "metadata": {
        "id": "sij8K3ZNtvHI"
      },
      "source": [
        "X_train=X_train.values\n",
        "X_test=X_test.values\n",
        "X_train=np.asarray(X_train).astype(np.float32)\n",
        "X_test=np.asarray(X_test).astype(np.float32)"
      ],
      "execution_count": 96,
      "outputs": []
    },
    {
      "cell_type": "code",
      "metadata": {
        "id": "Nxl26KtMrVc_",
        "outputId": "e1555294-73d1-4347-a472-2067297088e1",
        "colab": {
          "base_uri": "https://localhost:8080/",
          "height": 34
        }
      },
      "source": [
        "print(X_train.shape, X_test.shape, y_train.shape, y_test.shape)"
      ],
      "execution_count": 97,
      "outputs": [
        {
          "output_type": "stream",
          "text": [
            "(62768, 23) (20923, 23) (62768,) (20923,)\n"
          ],
          "name": "stdout"
        }
      ]
    },
    {
      "cell_type": "markdown",
      "metadata": {
        "id": "n3BjU1zRaMlj"
      },
      "source": [
        "**Keras Regression Model for first innings**"
      ]
    },
    {
      "cell_type": "code",
      "metadata": {
        "id": "1jWu49jPsp72"
      },
      "source": [
        "from keras.callbacks import ModelCheckpoint\n",
        "from keras.models import Sequential\n",
        "from keras.layers import Dense, Activation, Flatten\n",
        "from sklearn.metrics import mean_absolute_error"
      ],
      "execution_count": 98,
      "outputs": []
    },
    {
      "cell_type": "code",
      "metadata": {
        "id": "KsN2a8ynsweZ",
        "outputId": "f89b49f4-0ed6-4679-c5d1-eb4855145734",
        "colab": {
          "base_uri": "https://localhost:8080/",
          "height": 336
        }
      },
      "source": [
        "model = Sequential()\n",
        "\n",
        "# The Input Layer :\n",
        "model.add(Dense(256, kernel_initializer='normal',input_dim = X_train.shape[1], activation='relu'))\n",
        "\n",
        "# The Hidden Layers :\n",
        "model.add(Dense(128, kernel_initializer='normal',activation='relu'))\n",
        "model.add(Dense(64, kernel_initializer='normal',activation='relu'))\n",
        "model.add(Dense(32, kernel_initializer='normal',activation='relu'))\n",
        "\n",
        "# The Output Layer :\n",
        "model.add(Dense(1, kernel_initializer='normal',activation='linear'))\n",
        "\n",
        "# Compile the network :\n",
        "model.compile(loss='mean_absolute_error', optimizer='adam', metrics=['mean_absolute_error'])\n",
        "model.summary()"
      ],
      "execution_count": 99,
      "outputs": [
        {
          "output_type": "stream",
          "text": [
            "Model: \"sequential\"\n",
            "_________________________________________________________________\n",
            "Layer (type)                 Output Shape              Param #   \n",
            "=================================================================\n",
            "dense (Dense)                (None, 256)               6144      \n",
            "_________________________________________________________________\n",
            "dense_1 (Dense)              (None, 128)               32896     \n",
            "_________________________________________________________________\n",
            "dense_2 (Dense)              (None, 64)                8256      \n",
            "_________________________________________________________________\n",
            "dense_3 (Dense)              (None, 32)                2080      \n",
            "_________________________________________________________________\n",
            "dense_4 (Dense)              (None, 1)                 33        \n",
            "=================================================================\n",
            "Total params: 49,409\n",
            "Trainable params: 49,409\n",
            "Non-trainable params: 0\n",
            "_________________________________________________________________\n"
          ],
          "name": "stdout"
        }
      ]
    },
    {
      "cell_type": "code",
      "metadata": {
        "id": "EYDqpxkztISm"
      },
      "source": [
        "checkpoint_name = 'Weights-first_innings.hdf5' \n",
        "checkpoint = ModelCheckpoint(checkpoint_name, monitor='val_mean_absolute_error', verbose = 1, save_best_only = True, mode ='auto')\n",
        "callbacks_list = [checkpoint]"
      ],
      "execution_count": 100,
      "outputs": []
    },
    {
      "cell_type": "code",
      "metadata": {
        "id": "oTUEtGzVtP9B",
        "outputId": "312ac11a-8820-4d42-e978-ef0f9233b07a",
        "colab": {
          "base_uri": "https://localhost:8080/",
          "height": 1000
        }
      },
      "source": [
        "model.fit(X_train, y_train, epochs=20, batch_size=32, validation_split = 0.3, callbacks=callbacks_list)"
      ],
      "execution_count": 101,
      "outputs": [
        {
          "output_type": "stream",
          "text": [
            "Epoch 1/20\n",
            "1357/1374 [============================>.] - ETA: 0s - loss: 25.4142 - mean_absolute_error: 25.4142\n",
            "Epoch 00001: val_mean_absolute_error improved from inf to 19.65417, saving model to Weights-first_innings.hdf5\n",
            "1374/1374 [==============================] - 5s 4ms/step - loss: 25.3146 - mean_absolute_error: 25.3146 - val_loss: 19.6542 - val_mean_absolute_error: 19.6542\n",
            "Epoch 2/20\n",
            "1360/1374 [============================>.] - ETA: 0s - loss: 16.6208 - mean_absolute_error: 16.6208\n",
            "Epoch 00002: val_mean_absolute_error improved from 19.65417 to 19.07187, saving model to Weights-first_innings.hdf5\n",
            "1374/1374 [==============================] - 4s 3ms/step - loss: 16.6118 - mean_absolute_error: 16.6118 - val_loss: 19.0719 - val_mean_absolute_error: 19.0719\n",
            "Epoch 3/20\n",
            "1364/1374 [============================>.] - ETA: 0s - loss: 16.2217 - mean_absolute_error: 16.2217\n",
            "Epoch 00003: val_mean_absolute_error improved from 19.07187 to 16.91282, saving model to Weights-first_innings.hdf5\n",
            "1374/1374 [==============================] - 4s 3ms/step - loss: 16.2110 - mean_absolute_error: 16.2110 - val_loss: 16.9128 - val_mean_absolute_error: 16.9128\n",
            "Epoch 4/20\n",
            "1361/1374 [============================>.] - ETA: 0s - loss: 15.9469 - mean_absolute_error: 15.9469\n",
            "Epoch 00004: val_mean_absolute_error did not improve from 16.91282\n",
            "1374/1374 [==============================] - 4s 3ms/step - loss: 15.9450 - mean_absolute_error: 15.9450 - val_loss: 19.0687 - val_mean_absolute_error: 19.0687\n",
            "Epoch 5/20\n",
            "1357/1374 [============================>.] - ETA: 0s - loss: 15.9488 - mean_absolute_error: 15.9488\n",
            "Epoch 00005: val_mean_absolute_error improved from 16.91282 to 15.22768, saving model to Weights-first_innings.hdf5\n",
            "1374/1374 [==============================] - 5s 3ms/step - loss: 15.9535 - mean_absolute_error: 15.9535 - val_loss: 15.2277 - val_mean_absolute_error: 15.2277\n",
            "Epoch 6/20\n",
            "1367/1374 [============================>.] - ETA: 0s - loss: 15.8646 - mean_absolute_error: 15.8646\n",
            "Epoch 00006: val_mean_absolute_error did not improve from 15.22768\n",
            "1374/1374 [==============================] - 4s 3ms/step - loss: 15.8591 - mean_absolute_error: 15.8591 - val_loss: 23.1450 - val_mean_absolute_error: 23.1450\n",
            "Epoch 7/20\n",
            "1357/1374 [============================>.] - ETA: 0s - loss: 15.6871 - mean_absolute_error: 15.6871\n",
            "Epoch 00007: val_mean_absolute_error did not improve from 15.22768\n",
            "1374/1374 [==============================] - 4s 3ms/step - loss: 15.6860 - mean_absolute_error: 15.6860 - val_loss: 16.7338 - val_mean_absolute_error: 16.7338\n",
            "Epoch 8/20\n",
            "1363/1374 [============================>.] - ETA: 0s - loss: 15.5374 - mean_absolute_error: 15.5374\n",
            "Epoch 00008: val_mean_absolute_error did not improve from 15.22768\n",
            "1374/1374 [==============================] - 5s 3ms/step - loss: 15.5285 - mean_absolute_error: 15.5285 - val_loss: 20.5576 - val_mean_absolute_error: 20.5576\n",
            "Epoch 9/20\n",
            "1357/1374 [============================>.] - ETA: 0s - loss: 15.3524 - mean_absolute_error: 15.3524\n",
            "Epoch 00009: val_mean_absolute_error did not improve from 15.22768\n",
            "1374/1374 [==============================] - 4s 3ms/step - loss: 15.3607 - mean_absolute_error: 15.3607 - val_loss: 15.4322 - val_mean_absolute_error: 15.4322\n",
            "Epoch 10/20\n",
            "1370/1374 [============================>.] - ETA: 0s - loss: 15.3757 - mean_absolute_error: 15.3757\n",
            "Epoch 00010: val_mean_absolute_error did not improve from 15.22768\n",
            "1374/1374 [==============================] - 5s 3ms/step - loss: 15.3728 - mean_absolute_error: 15.3728 - val_loss: 18.5917 - val_mean_absolute_error: 18.5917\n",
            "Epoch 11/20\n",
            "1371/1374 [============================>.] - ETA: 0s - loss: 15.2768 - mean_absolute_error: 15.2768\n",
            "Epoch 00011: val_mean_absolute_error improved from 15.22768 to 14.95364, saving model to Weights-first_innings.hdf5\n",
            "1374/1374 [==============================] - 5s 4ms/step - loss: 15.2749 - mean_absolute_error: 15.2749 - val_loss: 14.9536 - val_mean_absolute_error: 14.9536\n",
            "Epoch 12/20\n",
            "1368/1374 [============================>.] - ETA: 0s - loss: 15.0659 - mean_absolute_error: 15.0659\n",
            "Epoch 00012: val_mean_absolute_error did not improve from 14.95364\n",
            "1374/1374 [==============================] - 5s 3ms/step - loss: 15.0745 - mean_absolute_error: 15.0745 - val_loss: 18.8327 - val_mean_absolute_error: 18.8327\n",
            "Epoch 13/20\n",
            "1371/1374 [============================>.] - ETA: 0s - loss: 14.9853 - mean_absolute_error: 14.9853\n",
            "Epoch 00013: val_mean_absolute_error did not improve from 14.95364\n",
            "1374/1374 [==============================] - 5s 3ms/step - loss: 14.9861 - mean_absolute_error: 14.9861 - val_loss: 16.7020 - val_mean_absolute_error: 16.7020\n",
            "Epoch 14/20\n",
            "1366/1374 [============================>.] - ETA: 0s - loss: 14.8592 - mean_absolute_error: 14.8592\n",
            "Epoch 00014: val_mean_absolute_error did not improve from 14.95364\n",
            "1374/1374 [==============================] - 5s 3ms/step - loss: 14.8577 - mean_absolute_error: 14.8577 - val_loss: 17.3498 - val_mean_absolute_error: 17.3498\n",
            "Epoch 15/20\n",
            "1359/1374 [============================>.] - ETA: 0s - loss: 14.6821 - mean_absolute_error: 14.6821\n",
            "Epoch 00015: val_mean_absolute_error improved from 14.95364 to 14.58772, saving model to Weights-first_innings.hdf5\n",
            "1374/1374 [==============================] - 5s 4ms/step - loss: 14.6834 - mean_absolute_error: 14.6834 - val_loss: 14.5877 - val_mean_absolute_error: 14.5877\n",
            "Epoch 16/20\n",
            "1366/1374 [============================>.] - ETA: 0s - loss: 14.7012 - mean_absolute_error: 14.7012\n",
            "Epoch 00016: val_mean_absolute_error did not improve from 14.58772\n",
            "1374/1374 [==============================] - 5s 4ms/step - loss: 14.6989 - mean_absolute_error: 14.6989 - val_loss: 16.2319 - val_mean_absolute_error: 16.2319\n",
            "Epoch 17/20\n",
            "1361/1374 [============================>.] - ETA: 0s - loss: 14.5346 - mean_absolute_error: 14.5346\n",
            "Epoch 00017: val_mean_absolute_error did not improve from 14.58772\n",
            "1374/1374 [==============================] - 5s 3ms/step - loss: 14.5233 - mean_absolute_error: 14.5233 - val_loss: 18.7077 - val_mean_absolute_error: 18.7077\n",
            "Epoch 18/20\n",
            "1359/1374 [============================>.] - ETA: 0s - loss: 14.3962 - mean_absolute_error: 14.3962\n",
            "Epoch 00018: val_mean_absolute_error did not improve from 14.58772\n",
            "1374/1374 [==============================] - 4s 3ms/step - loss: 14.4051 - mean_absolute_error: 14.4051 - val_loss: 16.5702 - val_mean_absolute_error: 16.5702\n",
            "Epoch 19/20\n",
            "1371/1374 [============================>.] - ETA: 0s - loss: 14.4040 - mean_absolute_error: 14.4040\n",
            "Epoch 00019: val_mean_absolute_error improved from 14.58772 to 14.32705, saving model to Weights-first_innings.hdf5\n",
            "1374/1374 [==============================] - 5s 3ms/step - loss: 14.4034 - mean_absolute_error: 14.4034 - val_loss: 14.3270 - val_mean_absolute_error: 14.3270\n",
            "Epoch 20/20\n",
            "1373/1374 [============================>.] - ETA: 0s - loss: 14.4210 - mean_absolute_error: 14.4210\n",
            "Epoch 00020: val_mean_absolute_error did not improve from 14.32705\n",
            "1374/1374 [==============================] - 4s 3ms/step - loss: 14.4211 - mean_absolute_error: 14.4211 - val_loss: 15.9979 - val_mean_absolute_error: 15.9979\n"
          ],
          "name": "stdout"
        },
        {
          "output_type": "execute_result",
          "data": {
            "text/plain": [
              "<tensorflow.python.keras.callbacks.History at 0x7f0b604155f8>"
            ]
          },
          "metadata": {
            "tags": []
          },
          "execution_count": 101
        }
      ]
    },
    {
      "cell_type": "code",
      "metadata": {
        "id": "Z6XZA-PdwuPf"
      },
      "source": [
        "# Load wights file of the best model :\n",
        "wights_file = 'Weights-first_innings.hdf5' # choose the best checkpoint \n",
        "model.load_weights(wights_file) # load it\n",
        "model.compile(loss='mean_absolute_error', optimizer='adam', metrics=['mean_absolute_error'])"
      ],
      "execution_count": 102,
      "outputs": []
    },
    {
      "cell_type": "code",
      "metadata": {
        "id": "ovVF8Ij0xB3U",
        "outputId": "1faebcf1-63e4-4591-eb84-92966704c6ba",
        "colab": {
          "base_uri": "https://localhost:8080/",
          "height": 34
        }
      },
      "source": [
        "prediction=model.predict(X_test)\n",
        "mean_absolute_error (y_test, prediction)"
      ],
      "execution_count": 103,
      "outputs": [
        {
          "output_type": "execute_result",
          "data": {
            "text/plain": [
              "14.304937143612506"
            ]
          },
          "metadata": {
            "tags": []
          },
          "execution_count": 103
        }
      ]
    },
    {
      "cell_type": "markdown",
      "metadata": {
        "id": "nAwu67v7avke"
      },
      "source": [
        "**AutoKeras regression model for first innings**"
      ]
    },
    {
      "cell_type": "code",
      "metadata": {
        "id": "T6yiEgslbmxt"
      },
      "source": [
        "from autokeras import StructuredDataRegressor"
      ],
      "execution_count": 104,
      "outputs": []
    },
    {
      "cell_type": "code",
      "metadata": {
        "id": "xJ8B-3JYbm9e",
        "outputId": "7abbf9d2-c93e-411c-cdfe-baf5c0a5e4e2",
        "colab": {
          "base_uri": "https://localhost:8080/",
          "height": 143
        }
      },
      "source": [
        "# define the search\n",
        "search = StructuredDataRegressor(max_trials=5, loss='mae',metrics=[\"mae\"])\n",
        "\n",
        "# perform the search\n",
        "search.fit(x=X_train, y=y_train, verbose=0)"
      ],
      "execution_count": 107,
      "outputs": [
        {
          "output_type": "stream",
          "text": [
            "WARNING:tensorflow:From /usr/local/lib/python3.6/dist-packages/tensorflow/python/training/tracking/tracking.py:111: Model.state_updates (from tensorflow.python.keras.engine.training) is deprecated and will be removed in a future version.\n",
            "Instructions for updating:\n",
            "This property should not be used in TensorFlow 2.0, as updates are applied automatically.\n",
            "WARNING:tensorflow:From /usr/local/lib/python3.6/dist-packages/tensorflow/python/training/tracking/tracking.py:111: Layer.updates (from tensorflow.python.keras.engine.base_layer) is deprecated and will be removed in a future version.\n",
            "Instructions for updating:\n",
            "This property should not be used in TensorFlow 2.0, as updates are applied automatically.\n"
          ],
          "name": "stderr"
        }
      ]
    },
    {
      "cell_type": "code",
      "metadata": {
        "id": "6kKjmA_Obm2m",
        "outputId": "f353ebba-c9fa-4315-8afc-b59c714ccd75",
        "colab": {
          "base_uri": "https://localhost:8080/",
          "height": 374
        }
      },
      "source": [
        "# get the best performing model\n",
        "first_innings_model = search.export_model()"
      ],
      "execution_count": 108,
      "outputs": [
        {
          "output_type": "stream",
          "text": [
            "WARNING:tensorflow:5 out of the last 5 calls to <function recreate_function.<locals>.restored_function_body at 0x7f0afef52950> triggered tf.function retracing. Tracing is expensive and the excessive number of tracings could be due to (1) creating @tf.function repeatedly in a loop, (2) passing tensors with different shapes, (3) passing Python objects instead of tensors. For (1), please define your @tf.function outside of the loop. For (2), @tf.function has experimental_relax_shapes=True option that relaxes argument shapes that can avoid unnecessary retracing. For (3), please refer to https://www.tensorflow.org/tutorials/customization/performance#python_or_tensor_args and https://www.tensorflow.org/api_docs/python/tf/function for  more details.\n",
            "WARNING:tensorflow:6 out of the last 6 calls to <function recreate_function.<locals>.restored_function_body at 0x7f0afefb6bf8> triggered tf.function retracing. Tracing is expensive and the excessive number of tracings could be due to (1) creating @tf.function repeatedly in a loop, (2) passing tensors with different shapes, (3) passing Python objects instead of tensors. For (1), please define your @tf.function outside of the loop. For (2), @tf.function has experimental_relax_shapes=True option that relaxes argument shapes that can avoid unnecessary retracing. For (3), please refer to https://www.tensorflow.org/tutorials/customization/performance#python_or_tensor_args and https://www.tensorflow.org/api_docs/python/tf/function for  more details.\n",
            "WARNING:tensorflow:7 out of the last 7 calls to <function recreate_function.<locals>.restored_function_body at 0x7f0afefe6730> triggered tf.function retracing. Tracing is expensive and the excessive number of tracings could be due to (1) creating @tf.function repeatedly in a loop, (2) passing tensors with different shapes, (3) passing Python objects instead of tensors. For (1), please define your @tf.function outside of the loop. For (2), @tf.function has experimental_relax_shapes=True option that relaxes argument shapes that can avoid unnecessary retracing. For (3), please refer to https://www.tensorflow.org/tutorials/customization/performance#python_or_tensor_args and https://www.tensorflow.org/api_docs/python/tf/function for  more details.\n",
            "WARNING:tensorflow:8 out of the last 8 calls to <function recreate_function.<locals>.restored_function_body at 0x7f0afefb6ae8> triggered tf.function retracing. Tracing is expensive and the excessive number of tracings could be due to (1) creating @tf.function repeatedly in a loop, (2) passing tensors with different shapes, (3) passing Python objects instead of tensors. For (1), please define your @tf.function outside of the loop. For (2), @tf.function has experimental_relax_shapes=True option that relaxes argument shapes that can avoid unnecessary retracing. For (3), please refer to https://www.tensorflow.org/tutorials/customization/performance#python_or_tensor_args and https://www.tensorflow.org/api_docs/python/tf/function for  more details.\n",
            "WARNING:tensorflow:9 out of the last 9 calls to <function recreate_function.<locals>.restored_function_body at 0x7f0afefa59d8> triggered tf.function retracing. Tracing is expensive and the excessive number of tracings could be due to (1) creating @tf.function repeatedly in a loop, (2) passing tensors with different shapes, (3) passing Python objects instead of tensors. For (1), please define your @tf.function outside of the loop. For (2), @tf.function has experimental_relax_shapes=True option that relaxes argument shapes that can avoid unnecessary retracing. For (3), please refer to https://www.tensorflow.org/tutorials/customization/performance#python_or_tensor_args and https://www.tensorflow.org/api_docs/python/tf/function for  more details.\n",
            "WARNING:tensorflow:10 out of the last 10 calls to <function recreate_function.<locals>.restored_function_body at 0x7f0afef84ae8> triggered tf.function retracing. Tracing is expensive and the excessive number of tracings could be due to (1) creating @tf.function repeatedly in a loop, (2) passing tensors with different shapes, (3) passing Python objects instead of tensors. For (1), please define your @tf.function outside of the loop. For (2), @tf.function has experimental_relax_shapes=True option that relaxes argument shapes that can avoid unnecessary retracing. For (3), please refer to https://www.tensorflow.org/tutorials/customization/performance#python_or_tensor_args and https://www.tensorflow.org/api_docs/python/tf/function for  more details.\n",
            "WARNING:tensorflow:11 out of the last 11 calls to <function recreate_function.<locals>.restored_function_body at 0x7f0afefe6400> triggered tf.function retracing. Tracing is expensive and the excessive number of tracings could be due to (1) creating @tf.function repeatedly in a loop, (2) passing tensors with different shapes, (3) passing Python objects instead of tensors. For (1), please define your @tf.function outside of the loop. For (2), @tf.function has experimental_relax_shapes=True option that relaxes argument shapes that can avoid unnecessary retracing. For (3), please refer to https://www.tensorflow.org/tutorials/customization/performance#python_or_tensor_args and https://www.tensorflow.org/api_docs/python/tf/function for  more details.\n",
            "WARNING:tensorflow:11 out of the last 11 calls to <function recreate_function.<locals>.restored_function_body at 0x7f0afefe61e0> triggered tf.function retracing. Tracing is expensive and the excessive number of tracings could be due to (1) creating @tf.function repeatedly in a loop, (2) passing tensors with different shapes, (3) passing Python objects instead of tensors. For (1), please define your @tf.function outside of the loop. For (2), @tf.function has experimental_relax_shapes=True option that relaxes argument shapes that can avoid unnecessary retracing. For (3), please refer to https://www.tensorflow.org/tutorials/customization/performance#python_or_tensor_args and https://www.tensorflow.org/api_docs/python/tf/function for  more details.\n",
            "WARNING:tensorflow:11 out of the last 11 calls to <function recreate_function.<locals>.restored_function_body at 0x7f0afef92b70> triggered tf.function retracing. Tracing is expensive and the excessive number of tracings could be due to (1) creating @tf.function repeatedly in a loop, (2) passing tensors with different shapes, (3) passing Python objects instead of tensors. For (1), please define your @tf.function outside of the loop. For (2), @tf.function has experimental_relax_shapes=True option that relaxes argument shapes that can avoid unnecessary retracing. For (3), please refer to https://www.tensorflow.org/tutorials/customization/performance#python_or_tensor_args and https://www.tensorflow.org/api_docs/python/tf/function for  more details.\n",
            "WARNING:tensorflow:11 out of the last 11 calls to <function recreate_function.<locals>.restored_function_body at 0x7f0afef47400> triggered tf.function retracing. Tracing is expensive and the excessive number of tracings could be due to (1) creating @tf.function repeatedly in a loop, (2) passing tensors with different shapes, (3) passing Python objects instead of tensors. For (1), please define your @tf.function outside of the loop. For (2), @tf.function has experimental_relax_shapes=True option that relaxes argument shapes that can avoid unnecessary retracing. For (3), please refer to https://www.tensorflow.org/tutorials/customization/performance#python_or_tensor_args and https://www.tensorflow.org/api_docs/python/tf/function for  more details.\n",
            "WARNING:tensorflow:11 out of the last 11 calls to <function recreate_function.<locals>.restored_function_body at 0x7f0afefd3d08> triggered tf.function retracing. Tracing is expensive and the excessive number of tracings could be due to (1) creating @tf.function repeatedly in a loop, (2) passing tensors with different shapes, (3) passing Python objects instead of tensors. For (1), please define your @tf.function outside of the loop. For (2), @tf.function has experimental_relax_shapes=True option that relaxes argument shapes that can avoid unnecessary retracing. For (3), please refer to https://www.tensorflow.org/tutorials/customization/performance#python_or_tensor_args and https://www.tensorflow.org/api_docs/python/tf/function for  more details.\n",
            "WARNING:tensorflow:11 out of the last 11 calls to <function recreate_function.<locals>.restored_function_body at 0x7f0aff035f28> triggered tf.function retracing. Tracing is expensive and the excessive number of tracings could be due to (1) creating @tf.function repeatedly in a loop, (2) passing tensors with different shapes, (3) passing Python objects instead of tensors. For (1), please define your @tf.function outside of the loop. For (2), @tf.function has experimental_relax_shapes=True option that relaxes argument shapes that can avoid unnecessary retracing. For (3), please refer to https://www.tensorflow.org/tutorials/customization/performance#python_or_tensor_args and https://www.tensorflow.org/api_docs/python/tf/function for  more details.\n",
            "WARNING:tensorflow:11 out of the last 11 calls to <function recreate_function.<locals>.restored_function_body at 0x7f0afefc6b70> triggered tf.function retracing. Tracing is expensive and the excessive number of tracings could be due to (1) creating @tf.function repeatedly in a loop, (2) passing tensors with different shapes, (3) passing Python objects instead of tensors. For (1), please define your @tf.function outside of the loop. For (2), @tf.function has experimental_relax_shapes=True option that relaxes argument shapes that can avoid unnecessary retracing. For (3), please refer to https://www.tensorflow.org/tutorials/customization/performance#python_or_tensor_args and https://www.tensorflow.org/api_docs/python/tf/function for  more details.\n",
            "WARNING:tensorflow:11 out of the last 11 calls to <function recreate_function.<locals>.restored_function_body at 0x7f0afef52488> triggered tf.function retracing. Tracing is expensive and the excessive number of tracings could be due to (1) creating @tf.function repeatedly in a loop, (2) passing tensors with different shapes, (3) passing Python objects instead of tensors. For (1), please define your @tf.function outside of the loop. For (2), @tf.function has experimental_relax_shapes=True option that relaxes argument shapes that can avoid unnecessary retracing. For (3), please refer to https://www.tensorflow.org/tutorials/customization/performance#python_or_tensor_args and https://www.tensorflow.org/api_docs/python/tf/function for  more details.\n",
            "WARNING:tensorflow:11 out of the last 11 calls to <function recreate_function.<locals>.restored_function_body at 0x7f0afef84950> triggered tf.function retracing. Tracing is expensive and the excessive number of tracings could be due to (1) creating @tf.function repeatedly in a loop, (2) passing tensors with different shapes, (3) passing Python objects instead of tensors. For (1), please define your @tf.function outside of the loop. For (2), @tf.function has experimental_relax_shapes=True option that relaxes argument shapes that can avoid unnecessary retracing. For (3), please refer to https://www.tensorflow.org/tutorials/customization/performance#python_or_tensor_args and https://www.tensorflow.org/api_docs/python/tf/function for  more details.\n",
            "WARNING:tensorflow:11 out of the last 11 calls to <function recreate_function.<locals>.restored_function_body at 0x7f0aff035840> triggered tf.function retracing. Tracing is expensive and the excessive number of tracings could be due to (1) creating @tf.function repeatedly in a loop, (2) passing tensors with different shapes, (3) passing Python objects instead of tensors. For (1), please define your @tf.function outside of the loop. For (2), @tf.function has experimental_relax_shapes=True option that relaxes argument shapes that can avoid unnecessary retracing. For (3), please refer to https://www.tensorflow.org/tutorials/customization/performance#python_or_tensor_args and https://www.tensorflow.org/api_docs/python/tf/function for  more details.\n",
            "WARNING:tensorflow:11 out of the last 11 calls to <function recreate_function.<locals>.restored_function_body at 0x7f0aff035488> triggered tf.function retracing. Tracing is expensive and the excessive number of tracings could be due to (1) creating @tf.function repeatedly in a loop, (2) passing tensors with different shapes, (3) passing Python objects instead of tensors. For (1), please define your @tf.function outside of the loop. For (2), @tf.function has experimental_relax_shapes=True option that relaxes argument shapes that can avoid unnecessary retracing. For (3), please refer to https://www.tensorflow.org/tutorials/customization/performance#python_or_tensor_args and https://www.tensorflow.org/api_docs/python/tf/function for  more details.\n",
            "WARNING:tensorflow:11 out of the last 11 calls to <function recreate_function.<locals>.restored_function_body at 0x7f0afef84d90> triggered tf.function retracing. Tracing is expensive and the excessive number of tracings could be due to (1) creating @tf.function repeatedly in a loop, (2) passing tensors with different shapes, (3) passing Python objects instead of tensors. For (1), please define your @tf.function outside of the loop. For (2), @tf.function has experimental_relax_shapes=True option that relaxes argument shapes that can avoid unnecessary retracing. For (3), please refer to https://www.tensorflow.org/tutorials/customization/performance#python_or_tensor_args and https://www.tensorflow.org/api_docs/python/tf/function for  more details.\n",
            "WARNING:tensorflow:11 out of the last 11 calls to <function recreate_function.<locals>.restored_function_body at 0x7f0afeff4840> triggered tf.function retracing. Tracing is expensive and the excessive number of tracings could be due to (1) creating @tf.function repeatedly in a loop, (2) passing tensors with different shapes, (3) passing Python objects instead of tensors. For (1), please define your @tf.function outside of the loop. For (2), @tf.function has experimental_relax_shapes=True option that relaxes argument shapes that can avoid unnecessary retracing. For (3), please refer to https://www.tensorflow.org/tutorials/customization/performance#python_or_tensor_args and https://www.tensorflow.org/api_docs/python/tf/function for  more details.\n"
          ],
          "name": "stderr"
        }
      ]
    },
    {
      "cell_type": "code",
      "metadata": {
        "id": "iV3UjPhQNGfH",
        "outputId": "e56e0efe-a70f-4a56-d535-41fb29972a4a",
        "colab": {
          "base_uri": "https://localhost:8080/",
          "height": 514
        }
      },
      "source": [
        "# summarize the loaded model\n",
        "first_innings_model.summary()"
      ],
      "execution_count": 109,
      "outputs": [
        {
          "output_type": "stream",
          "text": [
            "Model: \"functional_1\"\n",
            "_________________________________________________________________\n",
            "Layer (type)                 Output Shape              Param #   \n",
            "=================================================================\n",
            "input_1 (InputLayer)         [(None, 23)]              0         \n",
            "_________________________________________________________________\n",
            "multi_category_encoding (Mul (None, 23)                0         \n",
            "_________________________________________________________________\n",
            "normalization (Normalization (None, 23)                47        \n",
            "_________________________________________________________________\n",
            "dense (Dense)                (None, 256)               6144      \n",
            "_________________________________________________________________\n",
            "re_lu (ReLU)                 (None, 256)               0         \n",
            "_________________________________________________________________\n",
            "dense_1 (Dense)              (None, 32)                8224      \n",
            "_________________________________________________________________\n",
            "re_lu_1 (ReLU)               (None, 32)                0         \n",
            "_________________________________________________________________\n",
            "dense_2 (Dense)              (None, 32)                1056      \n",
            "_________________________________________________________________\n",
            "re_lu_2 (ReLU)               (None, 32)                0         \n",
            "_________________________________________________________________\n",
            "regression_head_1 (Dense)    (None, 1)                 33        \n",
            "=================================================================\n",
            "Total params: 15,504\n",
            "Trainable params: 15,457\n",
            "Non-trainable params: 47\n",
            "_________________________________________________________________\n"
          ],
          "name": "stdout"
        }
      ]
    },
    {
      "cell_type": "code",
      "metadata": {
        "id": "WnDtLELwNUTL",
        "outputId": "ffa51ac1-9b70-4f8c-b78c-77563f8c8846",
        "colab": {
          "base_uri": "https://localhost:8080/",
          "height": 34
        }
      },
      "source": [
        "prediction=first_innings_model.predict(X_test)\n",
        "mean_absolute_error (y_test, prediction)"
      ],
      "execution_count": 110,
      "outputs": [
        {
          "output_type": "execute_result",
          "data": {
            "text/plain": [
              "13.312941613334296"
            ]
          },
          "metadata": {
            "tags": []
          },
          "execution_count": 110
        }
      ]
    },
    {
      "cell_type": "markdown",
      "metadata": {
        "id": "M3Q4xT3yYpH8"
      },
      "source": [
        "**Building model for second innings**"
      ]
    },
    {
      "cell_type": "code",
      "metadata": {
        "id": "JvQ5yvmP7V7Z"
      },
      "source": [
        "df_second_innings=df.copy()"
      ],
      "execution_count": 142,
      "outputs": []
    },
    {
      "cell_type": "code",
      "metadata": {
        "id": "gbZP36hBAI4U"
      },
      "source": [
        "# first innings total\n",
        "\n",
        "df_second_innings['1st_innings_total']=df_second_innings.groupby(['id'])['total'].transform('first')"
      ],
      "execution_count": 143,
      "outputs": []
    },
    {
      "cell_type": "code",
      "metadata": {
        "id": "6xVSfRQvAI__"
      },
      "source": [
        "df_second_innings=df_second_innings.loc[df_second_innings['inning'] == 2]"
      ],
      "execution_count": 144,
      "outputs": []
    },
    {
      "cell_type": "code",
      "metadata": {
        "id": "nAjAbjreAFuk"
      },
      "source": [
        "df_second_innings=pd.get_dummies(data=df_second_innings, columns=['batting_team', 'bowling_team'])"
      ],
      "execution_count": 145,
      "outputs": []
    },
    {
      "cell_type": "code",
      "metadata": {
        "id": "Evqw7C7d_0Nf"
      },
      "source": [
        "df_second_innings=df_second_innings[['id','inning','batting_team_CSK', 'batting_team_DC','batting_team_KKR', 'batting_team_KXIP', 'batting_team_MI',\n",
        "                   'batting_team_RCB', 'batting_team_RR', 'batting_team_SRH','bowling_team_CSK', 'bowling_team_DC', 'bowling_team_KKR',\n",
        "                  'bowling_team_KXIP', 'bowling_team_MI', 'bowling_team_RCB','bowling_team_RR', 'bowling_team_SRH',\n",
        "                   'overs','total_score','total_wickets','prev_runs_30','prev_wickets_30','prev_30_dot_balls','prev_30_boundaries','1st_innings_total','total']]"
      ],
      "execution_count": 146,
      "outputs": []
    },
    {
      "cell_type": "code",
      "metadata": {
        "id": "mlYwnPgCB1uW"
      },
      "source": [
        "# Splitting the data into train and test set\n",
        "X = df_second_innings.drop(labels=['total','id'], axis=1)\n",
        "y = df_second_innings['total'].values"
      ],
      "execution_count": 147,
      "outputs": []
    },
    {
      "cell_type": "code",
      "metadata": {
        "id": "qVmsuoD4B8df"
      },
      "source": [
        "# split into train test sets\n",
        "X_train, X_test, y_train, y_test = train_test_split(X, y, test_size=0.25,random_state=42,stratify=y)"
      ],
      "execution_count": 148,
      "outputs": []
    },
    {
      "cell_type": "code",
      "metadata": {
        "id": "KlVPooMcCBWa"
      },
      "source": [
        "X_train=X_train.values\n",
        "X_test=X_test.values\n",
        "X_train=np.asarray(X_train).astype(np.float32)\n",
        "X_test=np.asarray(X_test).astype(np.float32)"
      ],
      "execution_count": 149,
      "outputs": []
    },
    {
      "cell_type": "code",
      "metadata": {
        "id": "6j4ERvleZEG8",
        "outputId": "e12dca28-ddc3-4e6d-ace3-b585a26ce870",
        "colab": {
          "base_uri": "https://localhost:8080/",
          "height": 34
        }
      },
      "source": [
        "print(X_train.shape, X_test.shape, y_train.shape, y_test.shape)"
      ],
      "execution_count": 150,
      "outputs": [
        {
          "output_type": "stream",
          "text": [
            "(58589, 25) (19530, 25) (58589,) (19530,)\n"
          ],
          "name": "stdout"
        }
      ]
    },
    {
      "cell_type": "code",
      "metadata": {
        "id": "EizOrULPCHmM",
        "outputId": "214aeea7-79e3-4733-a6e0-773039bee893",
        "colab": {
          "base_uri": "https://localhost:8080/",
          "height": 336
        }
      },
      "source": [
        "second_innings = Sequential()\n",
        "\n",
        "# The Input Layer :\n",
        "second_innings.add(Dense(256, kernel_initializer='normal',input_dim = X_train.shape[1], activation='relu'))\n",
        "\n",
        "# The Hidden Layers :\n",
        "second_innings.add(Dense(128, kernel_initializer='normal',activation='relu'))\n",
        "second_innings.add(Dense(64, kernel_initializer='normal',activation='relu'))\n",
        "second_innings.add(Dense(32, kernel_initializer='normal',activation='relu'))\n",
        "\n",
        "# The Output Layer :\n",
        "second_innings.add(Dense(1, kernel_initializer='normal',activation='linear'))\n",
        "\n",
        "# Compile the network :\n",
        "second_innings.compile(loss='mean_absolute_error', optimizer='adam', metrics=['mean_absolute_error'])\n",
        "second_innings.summary()"
      ],
      "execution_count": 177,
      "outputs": [
        {
          "output_type": "stream",
          "text": [
            "Model: \"sequential\"\n",
            "_________________________________________________________________\n",
            "Layer (type)                 Output Shape              Param #   \n",
            "=================================================================\n",
            "dense_3 (Dense)              (None, 256)               6656      \n",
            "_________________________________________________________________\n",
            "dense_4 (Dense)              (None, 128)               32896     \n",
            "_________________________________________________________________\n",
            "dense_5 (Dense)              (None, 64)                8256      \n",
            "_________________________________________________________________\n",
            "dense_6 (Dense)              (None, 32)                2080      \n",
            "_________________________________________________________________\n",
            "dense_7 (Dense)              (None, 1)                 33        \n",
            "=================================================================\n",
            "Total params: 49,921\n",
            "Trainable params: 49,921\n",
            "Non-trainable params: 0\n",
            "_________________________________________________________________\n"
          ],
          "name": "stdout"
        }
      ]
    },
    {
      "cell_type": "code",
      "metadata": {
        "id": "YGVOCT1rCL_x"
      },
      "source": [
        "checkpoint_name = 'Weights-second_innings.hdf5' \n",
        "checkpoint = ModelCheckpoint(checkpoint_name, monitor='val_mean_absolute_error', verbose = 1, save_best_only = True, mode ='auto')\n",
        "callbacks_list = [checkpoint]"
      ],
      "execution_count": 178,
      "outputs": []
    },
    {
      "cell_type": "code",
      "metadata": {
        "id": "Mg117kaKCOhC",
        "outputId": "92267ab7-9b1c-40d8-cf4c-d9aa9347eab3",
        "colab": {
          "base_uri": "https://localhost:8080/",
          "height": 1000
        }
      },
      "source": [
        "second_innings.fit(X_train, y_train, epochs=20, batch_size=32, validation_split = 0.3, callbacks=callbacks_list)"
      ],
      "execution_count": 179,
      "outputs": [
        {
          "output_type": "stream",
          "text": [
            "Epoch 1/20\n",
            "1274/1282 [============================>.] - ETA: 0s - loss: 16.9810 - mean_absolute_error: 16.9810\n",
            "Epoch 00001: val_mean_absolute_error improved from inf to 14.09812, saving model to Weights-second_innings.hdf5\n",
            "1282/1282 [==============================] - 5s 4ms/step - loss: 16.9570 - mean_absolute_error: 16.9570 - val_loss: 14.0981 - val_mean_absolute_error: 14.0981\n",
            "Epoch 2/20\n",
            "1281/1282 [============================>.] - ETA: 0s - loss: 13.0250 - mean_absolute_error: 13.0250\n",
            "Epoch 00002: val_mean_absolute_error improved from 14.09812 to 12.29185, saving model to Weights-second_innings.hdf5\n",
            "1282/1282 [==============================] - 4s 3ms/step - loss: 13.0278 - mean_absolute_error: 13.0278 - val_loss: 12.2918 - val_mean_absolute_error: 12.2918\n",
            "Epoch 3/20\n",
            "1277/1282 [============================>.] - ETA: 0s - loss: 12.3961 - mean_absolute_error: 12.3961\n",
            "Epoch 00003: val_mean_absolute_error improved from 12.29185 to 11.33555, saving model to Weights-second_innings.hdf5\n",
            "1282/1282 [==============================] - 4s 3ms/step - loss: 12.3911 - mean_absolute_error: 12.3911 - val_loss: 11.3355 - val_mean_absolute_error: 11.3355\n",
            "Epoch 4/20\n",
            "1276/1282 [============================>.] - ETA: 0s - loss: 11.9152 - mean_absolute_error: 11.9152\n",
            "Epoch 00004: val_mean_absolute_error improved from 11.33555 to 11.15045, saving model to Weights-second_innings.hdf5\n",
            "1282/1282 [==============================] - 4s 3ms/step - loss: 11.9080 - mean_absolute_error: 11.9080 - val_loss: 11.1505 - val_mean_absolute_error: 11.1505\n",
            "Epoch 5/20\n",
            "1265/1282 [============================>.] - ETA: 0s - loss: 11.7229 - mean_absolute_error: 11.7229\n",
            "Epoch 00005: val_mean_absolute_error did not improve from 11.15045\n",
            "1282/1282 [==============================] - 4s 3ms/step - loss: 11.7225 - mean_absolute_error: 11.7225 - val_loss: 12.9880 - val_mean_absolute_error: 12.9880\n",
            "Epoch 6/20\n",
            "1279/1282 [============================>.] - ETA: 0s - loss: 11.6019 - mean_absolute_error: 11.6019\n",
            "Epoch 00006: val_mean_absolute_error improved from 11.15045 to 10.94599, saving model to Weights-second_innings.hdf5\n",
            "1282/1282 [==============================] - 4s 3ms/step - loss: 11.6042 - mean_absolute_error: 11.6042 - val_loss: 10.9460 - val_mean_absolute_error: 10.9460\n",
            "Epoch 7/20\n",
            "1280/1282 [============================>.] - ETA: 0s - loss: 11.5314 - mean_absolute_error: 11.5314\n",
            "Epoch 00007: val_mean_absolute_error did not improve from 10.94599\n",
            "1282/1282 [==============================] - 4s 3ms/step - loss: 11.5313 - mean_absolute_error: 11.5313 - val_loss: 12.6308 - val_mean_absolute_error: 12.6308\n",
            "Epoch 8/20\n",
            "1276/1282 [============================>.] - ETA: 0s - loss: 11.4173 - mean_absolute_error: 11.4173\n",
            "Epoch 00008: val_mean_absolute_error did not improve from 10.94599\n",
            "1282/1282 [==============================] - 4s 3ms/step - loss: 11.4180 - mean_absolute_error: 11.4180 - val_loss: 11.3532 - val_mean_absolute_error: 11.3532\n",
            "Epoch 9/20\n",
            "1269/1282 [============================>.] - ETA: 0s - loss: 11.3488 - mean_absolute_error: 11.3488\n",
            "Epoch 00009: val_mean_absolute_error improved from 10.94599 to 10.93437, saving model to Weights-second_innings.hdf5\n",
            "1282/1282 [==============================] - 4s 3ms/step - loss: 11.3480 - mean_absolute_error: 11.3480 - val_loss: 10.9344 - val_mean_absolute_error: 10.9344\n",
            "Epoch 10/20\n",
            "1274/1282 [============================>.] - ETA: 0s - loss: 11.3070 - mean_absolute_error: 11.3070\n",
            "Epoch 00010: val_mean_absolute_error improved from 10.93437 to 10.59866, saving model to Weights-second_innings.hdf5\n",
            "1282/1282 [==============================] - 4s 3ms/step - loss: 11.3144 - mean_absolute_error: 11.3144 - val_loss: 10.5987 - val_mean_absolute_error: 10.5987\n",
            "Epoch 11/20\n",
            "1273/1282 [============================>.] - ETA: 0s - loss: 11.1264 - mean_absolute_error: 11.1264\n",
            "Epoch 00011: val_mean_absolute_error did not improve from 10.59866\n",
            "1282/1282 [==============================] - 4s 3ms/step - loss: 11.1236 - mean_absolute_error: 11.1236 - val_loss: 11.0862 - val_mean_absolute_error: 11.0862\n",
            "Epoch 12/20\n",
            "1278/1282 [============================>.] - ETA: 0s - loss: 11.1248 - mean_absolute_error: 11.1248\n",
            "Epoch 00012: val_mean_absolute_error did not improve from 10.59866\n",
            "1282/1282 [==============================] - 4s 3ms/step - loss: 11.1231 - mean_absolute_error: 11.1231 - val_loss: 10.7997 - val_mean_absolute_error: 10.7997\n",
            "Epoch 13/20\n",
            "1266/1282 [============================>.] - ETA: 0s - loss: 11.0480 - mean_absolute_error: 11.0480\n",
            "Epoch 00013: val_mean_absolute_error improved from 10.59866 to 10.44702, saving model to Weights-second_innings.hdf5\n",
            "1282/1282 [==============================] - 4s 3ms/step - loss: 11.0360 - mean_absolute_error: 11.0360 - val_loss: 10.4470 - val_mean_absolute_error: 10.4470\n",
            "Epoch 14/20\n",
            "1278/1282 [============================>.] - ETA: 0s - loss: 10.9875 - mean_absolute_error: 10.9875\n",
            "Epoch 00014: val_mean_absolute_error did not improve from 10.44702\n",
            "1282/1282 [==============================] - 4s 3ms/step - loss: 10.9882 - mean_absolute_error: 10.9882 - val_loss: 10.4995 - val_mean_absolute_error: 10.4995\n",
            "Epoch 15/20\n",
            "1272/1282 [============================>.] - ETA: 0s - loss: 10.8269 - mean_absolute_error: 10.8269\n",
            "Epoch 00015: val_mean_absolute_error did not improve from 10.44702\n",
            "1282/1282 [==============================] - 4s 3ms/step - loss: 10.8256 - mean_absolute_error: 10.8256 - val_loss: 11.1785 - val_mean_absolute_error: 11.1785\n",
            "Epoch 16/20\n",
            "1267/1282 [============================>.] - ETA: 0s - loss: 10.8267 - mean_absolute_error: 10.8267\n",
            "Epoch 00016: val_mean_absolute_error did not improve from 10.44702\n",
            "1282/1282 [==============================] - 4s 3ms/step - loss: 10.8287 - mean_absolute_error: 10.8287 - val_loss: 10.5091 - val_mean_absolute_error: 10.5091\n",
            "Epoch 17/20\n",
            "1275/1282 [============================>.] - ETA: 0s - loss: 10.9252 - mean_absolute_error: 10.9252\n",
            "Epoch 00017: val_mean_absolute_error did not improve from 10.44702\n",
            "1282/1282 [==============================] - 4s 3ms/step - loss: 10.9305 - mean_absolute_error: 10.9305 - val_loss: 10.4999 - val_mean_absolute_error: 10.4999\n",
            "Epoch 18/20\n",
            "1270/1282 [============================>.] - ETA: 0s - loss: 10.7874 - mean_absolute_error: 10.7874\n",
            "Epoch 00018: val_mean_absolute_error did not improve from 10.44702\n",
            "1282/1282 [==============================] - 4s 3ms/step - loss: 10.8011 - mean_absolute_error: 10.8011 - val_loss: 10.7671 - val_mean_absolute_error: 10.7671\n",
            "Epoch 19/20\n",
            "1267/1282 [============================>.] - ETA: 0s - loss: 10.7574 - mean_absolute_error: 10.7574\n",
            "Epoch 00019: val_mean_absolute_error did not improve from 10.44702\n",
            "1282/1282 [==============================] - 4s 3ms/step - loss: 10.7600 - mean_absolute_error: 10.7600 - val_loss: 10.8261 - val_mean_absolute_error: 10.8261\n",
            "Epoch 20/20\n",
            "1267/1282 [============================>.] - ETA: 0s - loss: 10.7013 - mean_absolute_error: 10.7013\n",
            "Epoch 00020: val_mean_absolute_error improved from 10.44702 to 10.26482, saving model to Weights-second_innings.hdf5\n",
            "1282/1282 [==============================] - 5s 4ms/step - loss: 10.6918 - mean_absolute_error: 10.6918 - val_loss: 10.2648 - val_mean_absolute_error: 10.2648\n"
          ],
          "name": "stdout"
        },
        {
          "output_type": "execute_result",
          "data": {
            "text/plain": [
              "<tensorflow.python.keras.callbacks.History at 0x7f0aff6e3ac8>"
            ]
          },
          "metadata": {
            "tags": []
          },
          "execution_count": 179
        }
      ]
    },
    {
      "cell_type": "code",
      "metadata": {
        "id": "9hVlD-4YCk6I"
      },
      "source": [
        "# Load wights file of the best model :\n",
        "wights_file = 'Weights-second_innings.hdf5' # choose the best checkpoint \n",
        "second_innings.load_weights(wights_file) # load it\n",
        "second_innings.compile(loss='mean_absolute_error', optimizer='adam', metrics=['mean_absolute_error'])"
      ],
      "execution_count": 180,
      "outputs": []
    },
    {
      "cell_type": "code",
      "metadata": {
        "id": "WucjtjeTCnyr",
        "outputId": "fb65f14a-a225-468d-e116-c8cff6cd5576",
        "colab": {
          "base_uri": "https://localhost:8080/",
          "height": 34
        }
      },
      "source": [
        "prediction=second_innings.predict(X_test)\n",
        "mean_absolute_error (y_test, prediction)"
      ],
      "execution_count": 181,
      "outputs": [
        {
          "output_type": "execute_result",
          "data": {
            "text/plain": [
              "10.376078607898092"
            ]
          },
          "metadata": {
            "tags": []
          },
          "execution_count": 181
        }
      ]
    },
    {
      "cell_type": "markdown",
      "metadata": {
        "id": "YFZR8SKQw8ED"
      },
      "source": [
        "**AutoKeras regression model for second innings**"
      ]
    },
    {
      "cell_type": "code",
      "metadata": {
        "id": "6JwbIum-xDMp"
      },
      "source": [
        "# define the search\n",
        "search = StructuredDataRegressor(max_trials=7, loss='mae',metrics=[\"mae\"])\n",
        "\n",
        "# perform the search\n",
        "search.fit(x=X_train, y=y_train, verbose=0)"
      ],
      "execution_count": 151,
      "outputs": []
    },
    {
      "cell_type": "code",
      "metadata": {
        "id": "o24QMSypxQ7D",
        "outputId": "8177e14a-9bfa-44a5-ed69-acab8b00ba8f",
        "colab": {
          "base_uri": "https://localhost:8080/",
          "height": 481
        }
      },
      "source": [
        "# get the best performing model\n",
        "second_innings_model = search.export_model()"
      ],
      "execution_count": 152,
      "outputs": [
        {
          "output_type": "stream",
          "text": [
            "WARNING:tensorflow:11 out of the last 11 calls to <function recreate_function.<locals>.restored_function_body at 0x7f0aff72fa60> triggered tf.function retracing. Tracing is expensive and the excessive number of tracings could be due to (1) creating @tf.function repeatedly in a loop, (2) passing tensors with different shapes, (3) passing Python objects instead of tensors. For (1), please define your @tf.function outside of the loop. For (2), @tf.function has experimental_relax_shapes=True option that relaxes argument shapes that can avoid unnecessary retracing. For (3), please refer to https://www.tensorflow.org/tutorials/customization/performance#python_or_tensor_args and https://www.tensorflow.org/api_docs/python/tf/function for  more details.\n",
            "WARNING:tensorflow:11 out of the last 11 calls to <function recreate_function.<locals>.restored_function_body at 0x7f0afc581158> triggered tf.function retracing. Tracing is expensive and the excessive number of tracings could be due to (1) creating @tf.function repeatedly in a loop, (2) passing tensors with different shapes, (3) passing Python objects instead of tensors. For (1), please define your @tf.function outside of the loop. For (2), @tf.function has experimental_relax_shapes=True option that relaxes argument shapes that can avoid unnecessary retracing. For (3), please refer to https://www.tensorflow.org/tutorials/customization/performance#python_or_tensor_args and https://www.tensorflow.org/api_docs/python/tf/function for  more details.\n",
            "WARNING:tensorflow:11 out of the last 11 calls to <function recreate_function.<locals>.restored_function_body at 0x7f0afc5811e0> triggered tf.function retracing. Tracing is expensive and the excessive number of tracings could be due to (1) creating @tf.function repeatedly in a loop, (2) passing tensors with different shapes, (3) passing Python objects instead of tensors. For (1), please define your @tf.function outside of the loop. For (2), @tf.function has experimental_relax_shapes=True option that relaxes argument shapes that can avoid unnecessary retracing. For (3), please refer to https://www.tensorflow.org/tutorials/customization/performance#python_or_tensor_args and https://www.tensorflow.org/api_docs/python/tf/function for  more details.\n",
            "WARNING:tensorflow:11 out of the last 11 calls to <function recreate_function.<locals>.restored_function_body at 0x7f0aff72f9d8> triggered tf.function retracing. Tracing is expensive and the excessive number of tracings could be due to (1) creating @tf.function repeatedly in a loop, (2) passing tensors with different shapes, (3) passing Python objects instead of tensors. For (1), please define your @tf.function outside of the loop. For (2), @tf.function has experimental_relax_shapes=True option that relaxes argument shapes that can avoid unnecessary retracing. For (3), please refer to https://www.tensorflow.org/tutorials/customization/performance#python_or_tensor_args and https://www.tensorflow.org/api_docs/python/tf/function for  more details.\n",
            "WARNING:tensorflow:11 out of the last 11 calls to <function recreate_function.<locals>.restored_function_body at 0x7f0afc59be18> triggered tf.function retracing. Tracing is expensive and the excessive number of tracings could be due to (1) creating @tf.function repeatedly in a loop, (2) passing tensors with different shapes, (3) passing Python objects instead of tensors. For (1), please define your @tf.function outside of the loop. For (2), @tf.function has experimental_relax_shapes=True option that relaxes argument shapes that can avoid unnecessary retracing. For (3), please refer to https://www.tensorflow.org/tutorials/customization/performance#python_or_tensor_args and https://www.tensorflow.org/api_docs/python/tf/function for  more details.\n",
            "WARNING:tensorflow:11 out of the last 11 calls to <function recreate_function.<locals>.restored_function_body at 0x7f0afec6d730> triggered tf.function retracing. Tracing is expensive and the excessive number of tracings could be due to (1) creating @tf.function repeatedly in a loop, (2) passing tensors with different shapes, (3) passing Python objects instead of tensors. For (1), please define your @tf.function outside of the loop. For (2), @tf.function has experimental_relax_shapes=True option that relaxes argument shapes that can avoid unnecessary retracing. For (3), please refer to https://www.tensorflow.org/tutorials/customization/performance#python_or_tensor_args and https://www.tensorflow.org/api_docs/python/tf/function for  more details.\n",
            "WARNING:tensorflow:11 out of the last 11 calls to <function recreate_function.<locals>.restored_function_body at 0x7f0aff26d6a8> triggered tf.function retracing. Tracing is expensive and the excessive number of tracings could be due to (1) creating @tf.function repeatedly in a loop, (2) passing tensors with different shapes, (3) passing Python objects instead of tensors. For (1), please define your @tf.function outside of the loop. For (2), @tf.function has experimental_relax_shapes=True option that relaxes argument shapes that can avoid unnecessary retracing. For (3), please refer to https://www.tensorflow.org/tutorials/customization/performance#python_or_tensor_args and https://www.tensorflow.org/api_docs/python/tf/function for  more details.\n",
            "WARNING:tensorflow:11 out of the last 11 calls to <function recreate_function.<locals>.restored_function_body at 0x7f0afec6d510> triggered tf.function retracing. Tracing is expensive and the excessive number of tracings could be due to (1) creating @tf.function repeatedly in a loop, (2) passing tensors with different shapes, (3) passing Python objects instead of tensors. For (1), please define your @tf.function outside of the loop. For (2), @tf.function has experimental_relax_shapes=True option that relaxes argument shapes that can avoid unnecessary retracing. For (3), please refer to https://www.tensorflow.org/tutorials/customization/performance#python_or_tensor_args and https://www.tensorflow.org/api_docs/python/tf/function for  more details.\n",
            "WARNING:tensorflow:11 out of the last 11 calls to <function recreate_function.<locals>.restored_function_body at 0x7f0af465f598> triggered tf.function retracing. Tracing is expensive and the excessive number of tracings could be due to (1) creating @tf.function repeatedly in a loop, (2) passing tensors with different shapes, (3) passing Python objects instead of tensors. For (1), please define your @tf.function outside of the loop. For (2), @tf.function has experimental_relax_shapes=True option that relaxes argument shapes that can avoid unnecessary retracing. For (3), please refer to https://www.tensorflow.org/tutorials/customization/performance#python_or_tensor_args and https://www.tensorflow.org/api_docs/python/tf/function for  more details.\n",
            "WARNING:tensorflow:11 out of the last 11 calls to <function recreate_function.<locals>.restored_function_body at 0x7f0aff26d9d8> triggered tf.function retracing. Tracing is expensive and the excessive number of tracings could be due to (1) creating @tf.function repeatedly in a loop, (2) passing tensors with different shapes, (3) passing Python objects instead of tensors. For (1), please define your @tf.function outside of the loop. For (2), @tf.function has experimental_relax_shapes=True option that relaxes argument shapes that can avoid unnecessary retracing. For (3), please refer to https://www.tensorflow.org/tutorials/customization/performance#python_or_tensor_args and https://www.tensorflow.org/api_docs/python/tf/function for  more details.\n",
            "WARNING:tensorflow:11 out of the last 11 calls to <function recreate_function.<locals>.restored_function_body at 0x7f0afc3bdc80> triggered tf.function retracing. Tracing is expensive and the excessive number of tracings could be due to (1) creating @tf.function repeatedly in a loop, (2) passing tensors with different shapes, (3) passing Python objects instead of tensors. For (1), please define your @tf.function outside of the loop. For (2), @tf.function has experimental_relax_shapes=True option that relaxes argument shapes that can avoid unnecessary retracing. For (3), please refer to https://www.tensorflow.org/tutorials/customization/performance#python_or_tensor_args and https://www.tensorflow.org/api_docs/python/tf/function for  more details.\n",
            "WARNING:tensorflow:11 out of the last 11 calls to <function recreate_function.<locals>.restored_function_body at 0x7f0aff26d400> triggered tf.function retracing. Tracing is expensive and the excessive number of tracings could be due to (1) creating @tf.function repeatedly in a loop, (2) passing tensors with different shapes, (3) passing Python objects instead of tensors. For (1), please define your @tf.function outside of the loop. For (2), @tf.function has experimental_relax_shapes=True option that relaxes argument shapes that can avoid unnecessary retracing. For (3), please refer to https://www.tensorflow.org/tutorials/customization/performance#python_or_tensor_args and https://www.tensorflow.org/api_docs/python/tf/function for  more details.\n",
            "WARNING:tensorflow:11 out of the last 11 calls to <function recreate_function.<locals>.restored_function_body at 0x7f0af465f6a8> triggered tf.function retracing. Tracing is expensive and the excessive number of tracings could be due to (1) creating @tf.function repeatedly in a loop, (2) passing tensors with different shapes, (3) passing Python objects instead of tensors. For (1), please define your @tf.function outside of the loop. For (2), @tf.function has experimental_relax_shapes=True option that relaxes argument shapes that can avoid unnecessary retracing. For (3), please refer to https://www.tensorflow.org/tutorials/customization/performance#python_or_tensor_args and https://www.tensorflow.org/api_docs/python/tf/function for  more details.\n",
            "WARNING:tensorflow:11 out of the last 11 calls to <function recreate_function.<locals>.restored_function_body at 0x7f0afec6d6a8> triggered tf.function retracing. Tracing is expensive and the excessive number of tracings could be due to (1) creating @tf.function repeatedly in a loop, (2) passing tensors with different shapes, (3) passing Python objects instead of tensors. For (1), please define your @tf.function outside of the loop. For (2), @tf.function has experimental_relax_shapes=True option that relaxes argument shapes that can avoid unnecessary retracing. For (3), please refer to https://www.tensorflow.org/tutorials/customization/performance#python_or_tensor_args and https://www.tensorflow.org/api_docs/python/tf/function for  more details.\n",
            "WARNING:tensorflow:11 out of the last 11 calls to <function recreate_function.<locals>.restored_function_body at 0x7f0afc139158> triggered tf.function retracing. Tracing is expensive and the excessive number of tracings could be due to (1) creating @tf.function repeatedly in a loop, (2) passing tensors with different shapes, (3) passing Python objects instead of tensors. For (1), please define your @tf.function outside of the loop. For (2), @tf.function has experimental_relax_shapes=True option that relaxes argument shapes that can avoid unnecessary retracing. For (3), please refer to https://www.tensorflow.org/tutorials/customization/performance#python_or_tensor_args and https://www.tensorflow.org/api_docs/python/tf/function for  more details.\n",
            "WARNING:tensorflow:11 out of the last 11 calls to <function recreate_function.<locals>.restored_function_body at 0x7f0afc59b950> triggered tf.function retracing. Tracing is expensive and the excessive number of tracings could be due to (1) creating @tf.function repeatedly in a loop, (2) passing tensors with different shapes, (3) passing Python objects instead of tensors. For (1), please define your @tf.function outside of the loop. For (2), @tf.function has experimental_relax_shapes=True option that relaxes argument shapes that can avoid unnecessary retracing. For (3), please refer to https://www.tensorflow.org/tutorials/customization/performance#python_or_tensor_args and https://www.tensorflow.org/api_docs/python/tf/function for  more details.\n",
            "WARNING:tensorflow:11 out of the last 11 calls to <function recreate_function.<locals>.restored_function_body at 0x7f0afc3bd8c8> triggered tf.function retracing. Tracing is expensive and the excessive number of tracings could be due to (1) creating @tf.function repeatedly in a loop, (2) passing tensors with different shapes, (3) passing Python objects instead of tensors. For (1), please define your @tf.function outside of the loop. For (2), @tf.function has experimental_relax_shapes=True option that relaxes argument shapes that can avoid unnecessary retracing. For (3), please refer to https://www.tensorflow.org/tutorials/customization/performance#python_or_tensor_args and https://www.tensorflow.org/api_docs/python/tf/function for  more details.\n",
            "WARNING:tensorflow:11 out of the last 11 calls to <function recreate_function.<locals>.restored_function_body at 0x7f0afec6d620> triggered tf.function retracing. Tracing is expensive and the excessive number of tracings could be due to (1) creating @tf.function repeatedly in a loop, (2) passing tensors with different shapes, (3) passing Python objects instead of tensors. For (1), please define your @tf.function outside of the loop. For (2), @tf.function has experimental_relax_shapes=True option that relaxes argument shapes that can avoid unnecessary retracing. For (3), please refer to https://www.tensorflow.org/tutorials/customization/performance#python_or_tensor_args and https://www.tensorflow.org/api_docs/python/tf/function for  more details.\n",
            "WARNING:tensorflow:11 out of the last 11 calls to <function recreate_function.<locals>.restored_function_body at 0x7f0aff72fd08> triggered tf.function retracing. Tracing is expensive and the excessive number of tracings could be due to (1) creating @tf.function repeatedly in a loop, (2) passing tensors with different shapes, (3) passing Python objects instead of tensors. For (1), please define your @tf.function outside of the loop. For (2), @tf.function has experimental_relax_shapes=True option that relaxes argument shapes that can avoid unnecessary retracing. For (3), please refer to https://www.tensorflow.org/tutorials/customization/performance#python_or_tensor_args and https://www.tensorflow.org/api_docs/python/tf/function for  more details.\n",
            "WARNING:tensorflow:11 out of the last 11 calls to <function recreate_function.<locals>.restored_function_body at 0x7f0afc05a1e0> triggered tf.function retracing. Tracing is expensive and the excessive number of tracings could be due to (1) creating @tf.function repeatedly in a loop, (2) passing tensors with different shapes, (3) passing Python objects instead of tensors. For (1), please define your @tf.function outside of the loop. For (2), @tf.function has experimental_relax_shapes=True option that relaxes argument shapes that can avoid unnecessary retracing. For (3), please refer to https://www.tensorflow.org/tutorials/customization/performance#python_or_tensor_args and https://www.tensorflow.org/api_docs/python/tf/function for  more details.\n",
            "WARNING:tensorflow:11 out of the last 11 calls to <function recreate_function.<locals>.restored_function_body at 0x7f0aff72fb70> triggered tf.function retracing. Tracing is expensive and the excessive number of tracings could be due to (1) creating @tf.function repeatedly in a loop, (2) passing tensors with different shapes, (3) passing Python objects instead of tensors. For (1), please define your @tf.function outside of the loop. For (2), @tf.function has experimental_relax_shapes=True option that relaxes argument shapes that can avoid unnecessary retracing. For (3), please refer to https://www.tensorflow.org/tutorials/customization/performance#python_or_tensor_args and https://www.tensorflow.org/api_docs/python/tf/function for  more details.\n",
            "WARNING:tensorflow:11 out of the last 11 calls to <function recreate_function.<locals>.restored_function_body at 0x7f0afc5816a8> triggered tf.function retracing. Tracing is expensive and the excessive number of tracings could be due to (1) creating @tf.function repeatedly in a loop, (2) passing tensors with different shapes, (3) passing Python objects instead of tensors. For (1), please define your @tf.function outside of the loop. For (2), @tf.function has experimental_relax_shapes=True option that relaxes argument shapes that can avoid unnecessary retracing. For (3), please refer to https://www.tensorflow.org/tutorials/customization/performance#python_or_tensor_args and https://www.tensorflow.org/api_docs/python/tf/function for  more details.\n",
            "WARNING:tensorflow:11 out of the last 11 calls to <function recreate_function.<locals>.restored_function_body at 0x7f0aff26da60> triggered tf.function retracing. Tracing is expensive and the excessive number of tracings could be due to (1) creating @tf.function repeatedly in a loop, (2) passing tensors with different shapes, (3) passing Python objects instead of tensors. For (1), please define your @tf.function outside of the loop. For (2), @tf.function has experimental_relax_shapes=True option that relaxes argument shapes that can avoid unnecessary retracing. For (3), please refer to https://www.tensorflow.org/tutorials/customization/performance#python_or_tensor_args and https://www.tensorflow.org/api_docs/python/tf/function for  more details.\n",
            "WARNING:tensorflow:11 out of the last 11 calls to <function recreate_function.<locals>.restored_function_body at 0x7f0afc05aae8> triggered tf.function retracing. Tracing is expensive and the excessive number of tracings could be due to (1) creating @tf.function repeatedly in a loop, (2) passing tensors with different shapes, (3) passing Python objects instead of tensors. For (1), please define your @tf.function outside of the loop. For (2), @tf.function has experimental_relax_shapes=True option that relaxes argument shapes that can avoid unnecessary retracing. For (3), please refer to https://www.tensorflow.org/tutorials/customization/performance#python_or_tensor_args and https://www.tensorflow.org/api_docs/python/tf/function for  more details.\n",
            "WARNING:tensorflow:11 out of the last 11 calls to <function recreate_function.<locals>.restored_function_body at 0x7f0afc05abf8> triggered tf.function retracing. Tracing is expensive and the excessive number of tracings could be due to (1) creating @tf.function repeatedly in a loop, (2) passing tensors with different shapes, (3) passing Python objects instead of tensors. For (1), please define your @tf.function outside of the loop. For (2), @tf.function has experimental_relax_shapes=True option that relaxes argument shapes that can avoid unnecessary retracing. For (3), please refer to https://www.tensorflow.org/tutorials/customization/performance#python_or_tensor_args and https://www.tensorflow.org/api_docs/python/tf/function for  more details.\n"
          ],
          "name": "stderr"
        }
      ]
    },
    {
      "cell_type": "code",
      "metadata": {
        "id": "jxO-ZQzFxYoB",
        "outputId": "07bb4f4b-a2e9-4532-a7d0-82b370a95f12",
        "colab": {
          "base_uri": "https://localhost:8080/",
          "height": 514
        }
      },
      "source": [
        "# summarize the loaded model\n",
        "second_innings_model.summary()"
      ],
      "execution_count": 153,
      "outputs": [
        {
          "output_type": "stream",
          "text": [
            "Model: \"functional_1\"\n",
            "_________________________________________________________________\n",
            "Layer (type)                 Output Shape              Param #   \n",
            "=================================================================\n",
            "input_1 (InputLayer)         [(None, 25)]              0         \n",
            "_________________________________________________________________\n",
            "multi_category_encoding (Mul (None, 25)                0         \n",
            "_________________________________________________________________\n",
            "normalization (Normalization (None, 25)                51        \n",
            "_________________________________________________________________\n",
            "dense (Dense)                (None, 256)               6656      \n",
            "_________________________________________________________________\n",
            "re_lu (ReLU)                 (None, 256)               0         \n",
            "_________________________________________________________________\n",
            "dense_1 (Dense)              (None, 32)                8224      \n",
            "_________________________________________________________________\n",
            "re_lu_1 (ReLU)               (None, 32)                0         \n",
            "_________________________________________________________________\n",
            "dense_2 (Dense)              (None, 32)                1056      \n",
            "_________________________________________________________________\n",
            "re_lu_2 (ReLU)               (None, 32)                0         \n",
            "_________________________________________________________________\n",
            "regression_head_1 (Dense)    (None, 1)                 33        \n",
            "=================================================================\n",
            "Total params: 16,020\n",
            "Trainable params: 15,969\n",
            "Non-trainable params: 51\n",
            "_________________________________________________________________\n"
          ],
          "name": "stdout"
        }
      ]
    },
    {
      "cell_type": "code",
      "metadata": {
        "id": "rNkpeUGnxdhx",
        "outputId": "a700ad7f-7f35-468d-c48b-3ddcae58a7db",
        "colab": {
          "base_uri": "https://localhost:8080/",
          "height": 34
        }
      },
      "source": [
        "prediction=second_innings_model.predict(X_test)\n",
        "mean_absolute_error (y_test, prediction)"
      ],
      "execution_count": 154,
      "outputs": [
        {
          "output_type": "execute_result",
          "data": {
            "text/plain": [
              "22.784962175079205"
            ]
          },
          "metadata": {
            "tags": []
          },
          "execution_count": 154
        }
      ]
    },
    {
      "cell_type": "code",
      "metadata": {
        "id": "p9IL0FLu_P8B"
      },
      "source": [
        "# For the first innings the autokeras model is giving better results\n",
        "\n",
        "# For the second innings the squential model is giving better results"
      ],
      "execution_count": null,
      "outputs": []
    },
    {
      "cell_type": "markdown",
      "metadata": {
        "id": "rKlxQQnS_3JG"
      },
      "source": [
        "# ***Score Prediction***"
      ]
    },
    {
      "cell_type": "code",
      "metadata": {
        "id": "hABj05e1_iaC"
      },
      "source": [
        "# Function for first innings score prediction :\n",
        "\n",
        "def first_innings_prediction(Bat_Team,Bowl_Team,overs,total_score,total_wickets,prev_runs_30,prev_wickets_30,prev_30_dot_balls,prev_30_boundaries):\n",
        "\n",
        "\ttemp_array = list()\n",
        "\n",
        "\tif Bat_Team == 'CSK':\n",
        "\t\ttemp_array = temp_array + [1,0,0,0,0,0,0,0]\n",
        "\telif Bat_Team == 'DC':\n",
        "\t\ttemp_array = temp_array + [0,1,0,0,0,0,0,0]\n",
        "\telif Bat_Team == 'KKR':\n",
        "\t\ttemp_array = temp_array + [0,0,1,0,0,0,0,0]\n",
        "\telif Bat_Team == 'KXIP':\n",
        "\t\ttemp_array = temp_array + [0,0,0,1,0,0,0,0]\n",
        "\telif Bat_Team == 'MI':\n",
        "\t\ttemp_array = temp_array + [0,0,0,0,1,0,0,0]\n",
        "\telif Bat_Team == 'RCB':\n",
        "\t\ttemp_array = temp_array + [0,0,0,0,0,1,0,0]\n",
        "\telif Bat_Team == 'RR':\n",
        "\t\ttemp_array = temp_array + [0,0,0,0,0,0,1,0]\n",
        "\telif Bat_Team == 'SRH':\n",
        "\t\ttemp_array = temp_array + [0,0,0,0,0,0,0,1]\n",
        "\t\t\n",
        "\tif Bowl_Team == 'CSK':\n",
        "\t\ttemp_array = temp_array + [1,0,0,0,0,0,0,0]\n",
        "\telif Bowl_Team == 'DC':\n",
        "\t\ttemp_array = temp_array + [0,1,0,0,0,0,0,0]\n",
        "\telif Bowl_Team == 'KKR':\n",
        "\t\ttemp_array = temp_array + [0,0,1,0,0,0,0,0]\n",
        "\telif Bowl_Team == 'KXIP':\n",
        "\t\ttemp_array = temp_array + [0,0,0,1,0,0,0,0]\n",
        "\telif Bowl_Team == 'MI':\n",
        "\t\ttemp_array = temp_array + [0,0,0,0,1,0,0,0]\n",
        "\telif Bowl_Team == 'RCB':\n",
        "\t\ttemp_array = temp_array + [0,0,0,0,0,1,0,0]\n",
        "\telif Bowl_Team == 'RR':\n",
        "\t\ttemp_array = temp_array + [0,0,0,0,0,0,1,0]\n",
        "\telif Bowl_Team == 'SRH':\n",
        "\t\ttemp_array = temp_array + [0,0,0,0,0,0,0,1]\n",
        "\t\t\n",
        "\ttemp_array = temp_array + [overs,total_score,total_wickets,prev_runs_30,prev_wickets_30,prev_30_dot_balls,prev_30_boundaries]\n",
        "\t\n",
        "\tdata = np.array([temp_array])\n",
        "\t\n",
        "\tmy_prediction = int(first_innings_model.predict(data))\n",
        "\t\n",
        "\tprint('Predicted score is from',my_prediction-13,'to',my_prediction+13)"
      ],
      "execution_count": 215,
      "outputs": []
    },
    {
      "cell_type": "code",
      "metadata": {
        "id": "7j_8bT2hE661"
      },
      "source": [
        "# Function for second innings score prediction :\n",
        "\n",
        "def second_innings_prediction(Bat_Team,Bowl_Team,overs,total_score,total_wickets,prev_runs_30,prev_wickets_30,prev_30_dot_balls,prev_30_boundaries,first_innings_total):\n",
        "\n",
        "\ttemp_array = list()\n",
        "\n",
        "\tif Bat_Team == 'CSK':\n",
        "\t\ttemp_array = temp_array + [1,0,0,0,0,0,0,0]\n",
        "\telif Bat_Team == 'DC':\n",
        "\t\ttemp_array = temp_array + [0,1,0,0,0,0,0,0]\n",
        "\telif Bat_Team == 'KKR':\n",
        "\t\ttemp_array = temp_array + [0,0,1,0,0,0,0,0]\n",
        "\telif Bat_Team == 'KXIP':\n",
        "\t\ttemp_array = temp_array + [0,0,0,1,0,0,0,0]\n",
        "\telif Bat_Team == 'MI':\n",
        "\t\ttemp_array = temp_array + [0,0,0,0,1,0,0,0]\n",
        "\telif Bat_Team == 'RCB':\n",
        "\t\ttemp_array = temp_array + [0,0,0,0,0,1,0,0]\n",
        "\telif Bat_Team == 'RR':\n",
        "\t\ttemp_array = temp_array + [0,0,0,0,0,0,1,0]\n",
        "\telif Bat_Team == 'SRH':\n",
        "\t\ttemp_array = temp_array + [0,0,0,0,0,0,0,1]\n",
        "\t\t\n",
        "\tif Bowl_Team == 'CSK':\n",
        "\t\ttemp_array = temp_array + [1,0,0,0,0,0,0,0]\n",
        "\telif Bowl_Team == 'DC':\n",
        "\t\ttemp_array = temp_array + [0,1,0,0,0,0,0,0]\n",
        "\telif Bowl_Team == 'KKR':\n",
        "\t\ttemp_array = temp_array + [0,0,1,0,0,0,0,0]\n",
        "\telif Bowl_Team == 'KXIP':\n",
        "\t\ttemp_array = temp_array + [0,0,0,1,0,0,0,0]\n",
        "\telif Bowl_Team == 'MI':\n",
        "\t\ttemp_array = temp_array + [0,0,0,0,1,0,0,0]\n",
        "\telif Bowl_Team == 'RCB':\n",
        "\t\ttemp_array = temp_array + [0,0,0,0,0,1,0,0]\n",
        "\telif Bowl_Team == 'RR':\n",
        "\t\ttemp_array = temp_array + [0,0,0,0,0,0,1,0]\n",
        "\telif Bowl_Team == 'SRH':\n",
        "\t\ttemp_array = temp_array + [0,0,0,0,0,0,0,1]\n",
        "\t\t\n",
        "\ttemp_array =[2] + temp_array + [overs,total_score,total_wickets,prev_runs_30,prev_wickets_30,prev_30_dot_balls,prev_30_boundaries,first_innings_total]\n",
        "\t\n",
        "\tdata = np.array([temp_array])\n",
        "\t\n",
        "\tmy_prediction = int(second_innings.predict(data))\n",
        "\t\n",
        "\tprint('Predicted score is from',my_prediction-11,'to',my_prediction+11)"
      ],
      "execution_count": 229,
      "outputs": []
    },
    {
      "cell_type": "markdown",
      "metadata": {
        "id": "BDXzymE3JT5m"
      },
      "source": [
        "**First innings score prediction** "
      ]
    },
    {
      "cell_type": "code",
      "metadata": {
        "id": "NdwvtvL3DPuW",
        "outputId": "d1042900-18fa-4476-de43-ae19e8200976",
        "colab": {
          "base_uri": "https://localhost:8080/",
          "height": 34
        }
      },
      "source": [
        "Bat_Team = 'KKR' # CSK,DC,KKR,KXIP,MI,RCB,RR,SRH\n",
        "\n",
        "Bowl_Team = 'RCB' # CSK,DC,KKR,KXIP,MI,RCB,RR,SRH \n",
        "\n",
        "overs = 10.3\n",
        "\n",
        "total_score = 67 # current score\n",
        "\n",
        "total_wickets = 2 # current wicket \n",
        "\n",
        "prev_runs_30 = 37 # runs in last 30 balls\n",
        "\n",
        "prev_wickets_30 = 1 # wickets in last 30 balls\n",
        "\n",
        "prev_30_dot_balls = 8 # dots in last 30 balls\n",
        "\n",
        "prev_30_boundaries = 5 # boundaries in last 30 balls\n",
        "\n",
        "first_innings_prediction(Bat_Team,Bowl_Team,overs,total_score,total_wickets,\n",
        "                         prev_runs_30,prev_wickets_30,prev_30_dot_balls,prev_30_boundaries)"
      ],
      "execution_count": 267,
      "outputs": [
        {
          "output_type": "stream",
          "text": [
            "Predicted score is from 142 to 168\n"
          ],
          "name": "stdout"
        }
      ]
    },
    {
      "cell_type": "markdown",
      "metadata": {
        "id": "k4t2wnmoJXWY"
      },
      "source": [
        "**Second innings score prediction**"
      ]
    },
    {
      "cell_type": "code",
      "metadata": {
        "id": "qGY4QLxIE7gW",
        "outputId": "9e2ea73f-22e7-43a8-922e-67e3f8f64ca8",
        "colab": {
          "base_uri": "https://localhost:8080/",
          "height": 34
        }
      },
      "source": [
        "Bat_Team = 'MI' # CSK,DC,KKR,KXIP,MI,RCB,RR,SRH\n",
        "\n",
        "Bowl_Team = 'CSK' # CSK,DC,KKR,KXIP,MI,RCB,RR,SRH \n",
        "\n",
        "overs = 12.3\n",
        "\n",
        "total_score = 72 # current score\n",
        "\n",
        "total_wickets = 2 # current wicket \n",
        "\n",
        "prev_runs_30 = 36 # runs in last 30 balls\n",
        "\n",
        "prev_wickets_30 = 2 # wickets in last 30 balls\n",
        "\n",
        "prev_30_dot_balls = 8 # dots in last 30 balls\n",
        "\n",
        "prev_30_boundaries = 2 # boundaries in last 30 balls\n",
        "\n",
        "first_innings_total = 168\n",
        "\n",
        "second_innings_prediction(Bat_Team,Bowl_Team,overs,total_score,total_wickets,\n",
        "                          prev_runs_30,prev_wickets_30,prev_30_dot_balls,prev_30_boundaries,first_innings_total)"
      ],
      "execution_count": 266,
      "outputs": [
        {
          "output_type": "stream",
          "text": [
            "Predicted score is from 147 to 169\n"
          ],
          "name": "stdout"
        }
      ]
    }
  ]
}